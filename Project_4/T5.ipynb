{
 "cells": [
  {
   "cell_type": "markdown",
   "id": "48ccf552-ff2c-48a1-82de-657427585596",
   "metadata": {},
   "source": [
    "# Text Summarization\n",
    "## —— Based on T5 (Text-To-Text Transfer Transformer)"
   ]
  },
  {
   "cell_type": "markdown",
   "id": "088116d9-83ce-42ee-880e-0dd4a4eb7226",
   "metadata": {},
   "source": [
    "T5框架将所有自然语言处理任务重构为统一的文本到文本格式。其输入和输出始终是文本字符串，这与BERT模型形成了鲜明对比，因为BERT类的模型的输入有一定的局限性。T5框架允许我们在任何自然语言处理任务上使用相同的模型、损失函数与超参数，这包括机器翻译、文本摘要、机器问答和分类任务。\n",
    "\n",
    "T5框架是一个有效的迁移学习技术。在开源的网站上获取的T5框架是受到过预训练的，我们只需要对框架进行微调，就可以将其作为有效的模型投入到使用中。\n",
    "\n",
    "在这里，我们将尝试使用T5框架，基于AutoDL云上服务器，使用训练集对模型进行微调，从而尝试实现文本摘要。\n",
    "\n",
    "本次实验是在参阅了大量技术文档后编写的，并且还在实验过程中发现了一些在网络上编写技术文档的人的代码错误。在这里，我们提供可以运行与复现结果的代码。\n",
    "\n",
    "Reference github repository: https://github.com/abhimishra91/transformers-tutorials/blob/master/transformers_summarization_wandb.ipynb"
   ]
  },
  {
   "cell_type": "markdown",
   "id": "c7b7082e",
   "metadata": {},
   "source": [
    "### 1. 调取必要模块 "
   ]
  },
  {
   "cell_type": "code",
   "execution_count": 1,
   "id": "1193dbf2-33d4-4897-bed1-11a7ba728cba",
   "metadata": {
    "tags": []
   },
   "outputs": [],
   "source": [
    "# 基础模块\n",
    "import numpy as np\n",
    "import pandas as pd\n",
    "import torch\n",
    "import torch.nn.functional as F\n",
    "from rouge import Rouge\n",
    "from sklearn.model_selection import KFold\n",
    "from nltk.translate.bleu_score import sentence_bleu\n",
    "from nltk.translate import meteor_score\n",
    "from torch.utils.data import Dataset, DataLoader, RandomSampler, SequentialSampler\n",
    "\n",
    "# 基于Transformers架构的T5框架\n",
    "from transformers import T5Tokenizer, T5ForConditionalGeneration"
   ]
  },
  {
   "cell_type": "code",
   "execution_count": 2,
   "id": "19d577ee",
   "metadata": {
    "tags": []
   },
   "outputs": [],
   "source": [
    "# 这段代码的目的是在AutoDL云上服务器中开启加速\n",
    "# 从而更快地获取来自HuggingFace的内容\n",
    "# 选自AutoDL的帮助文档\n",
    "# 个人建议在AutoDL的环境下运行，或直接不运行这段代码。否则可能出现错误。\n",
    "\n",
    "\"\"\"\n",
    "如果在载入模块时连接时间过长，可以启用这段代码\n",
    "建议在AutoDL的环境下运行，或自行配置合适的环境\n",
    "否则可能出现错误！\n",
    "\"\"\"\n",
    "# import subprocess\n",
    "# import os\n",
    "# \n",
    "# result = subprocess.run('bash -c \"source /etc/network_turbo && env | grep proxy\"', shell=True, capture_output=True, text=True)\n",
    "# output = result.stdout\n",
    "# for line in output.splitlines():\n",
    "#     if '=' in line:\n",
    "#         var, value = line.split('=', 1)\n",
    "#         os.environ[var] = value"
   ]
  },
  {
   "cell_type": "code",
   "execution_count": 3,
   "id": "84b40520",
   "metadata": {
    "tags": []
   },
   "outputs": [
    {
     "name": "stdout",
     "output_type": "stream",
     "text": [
      "cuda\n"
     ]
    }
   ],
   "source": [
    "# 调用GPU\n",
    "# 本人租用的服务器采用了具有2块GPU的RTX 4090\n",
    "from torch import cuda\n",
    "device = \"cuda\" if cuda.is_available() else \"cpu\"\n",
    "\n",
    "print(device)"
   ]
  },
  {
   "cell_type": "markdown",
   "id": "966b58e1",
   "metadata": {},
   "source": [
    "### 2. 自定义数据集\n",
    "基于train.csv设计的自定义数据集，为后续神经网络的微调做准备。"
   ]
  },
  {
   "cell_type": "code",
   "execution_count": 4,
   "id": "09857c25",
   "metadata": {
    "tags": []
   },
   "outputs": [],
   "source": [
    "class MedicalDataset(Dataset):\n",
    "\n",
    "    def __init__(self, dataframe, tokenizer, source_len, summ_len):\n",
    "        # tokenizer: 用于分词\n",
    "        self.tokenizer = tokenizer\n",
    "        # data: 存储数据\n",
    "        self.data = dataframe\n",
    "        # description的内容的长度\n",
    "        self.source_len = source_len\n",
    "        # diagnosis的内容的长度\n",
    "        self.summ_len = summ_len\n",
    "        # csv文件中description列的内容\n",
    "        self.description = self.data.description\n",
    "        # csv文件中diagnosis列的内容\n",
    "        self.diagnosis = self.data.diagnosis\n",
    "\n",
    "    # 返回数据的数量\n",
    "    def __len__(self):\n",
    "        return len(self.description)\n",
    "    \n",
    "    def __getitem__(self, index):\n",
    "        # 如果文本中有多个连续空格\n",
    "        # 则合并为一个空格\n",
    "        diagnosis = str(self.diagnosis[index])\n",
    "        diagnosis = ' '.join(diagnosis.split())\n",
    "        description = str(self.description[index])\n",
    "        description = ' '.join(description.split())\n",
    "        # batch_encode_plus将文本转为模型可以处理的编码\n",
    "        source = self.tokenizer.batch_encode_plus([description],\n",
    "                                                  max_length = self.source_len,     # 指定编码后文本最大长度\n",
    "                                                  padding = 'max_length',           # 填充使得每个文本长度相同\n",
    "                                                  return_tensors = 'pt',            # 返回Pytorch的张量\n",
    "                                                  truncation = True)                # 如果超过最大长度，需要截断\n",
    "        target = self.tokenizer.batch_encode_plus([diagnosis],\n",
    "                                                  max_length = self.summ_len,       # 指定编码后文本最大长度\n",
    "                                                  padding = 'max_length',           # 填充使得每个文本长度相同\n",
    "                                                  return_tensors = 'pt',            # 返回Pytorch的张量\n",
    "                                                  truncation = True)                # 如果超过最大长度，需要截断\n",
    "        \n",
    "        # Pytorch中的squeeze函数移除大小为1的维度\n",
    "        # 张量形状更紧凑\n",
    "        # input_ids返回了编码后的文本的token IDs\n",
    "        # attention_mask二进制掩码，表明哪些位置是填充，注意力机制不应放在填充位置\n",
    "        source_ids = source['input_ids'].squeeze()\n",
    "        source_mask = source['attention_mask'].squeeze()\n",
    "        target_ids = target['input_ids'].squeeze()\n",
    "\n",
    "        return {\n",
    "            'source_ids': source_ids.to(dtype=torch.long),\n",
    "            'source_mask': source_mask.to(dtype=torch.long),\n",
    "            'target_ids': target_ids.to(dtype=torch.long)\n",
    "        }"
   ]
  },
  {
   "cell_type": "markdown",
   "id": "f6647bd6",
   "metadata": {},
   "source": [
    "### 3. 编写训练函数\n",
    "训练集会经过训练函数，从而达成模型的微调。"
   ]
  },
  {
   "cell_type": "code",
   "execution_count": 5,
   "id": "75729f02",
   "metadata": {
    "tags": []
   },
   "outputs": [],
   "source": [
    "loss_array = []\n",
    "\n",
    "def train(epoch, tokenizer, model, device, loader, optimizer):\n",
    "    model.train()\n",
    "    for _, data in enumerate(loader):\n",
    "        y = data['target_ids'].to(device, dtype = torch.long)\n",
    "        # 获取 y 的每一行，且不要最后一个标记\n",
    "        # 用contiguous使张量连续\n",
    "        y_ids = y[:, :-1].contiguous()\n",
    "        # detach让labels不用参与梯度计算\n",
    "        labels = y[:, 1:].clone().detach()\n",
    "        # 填充位置对应的损失值设为-100\n",
    "        # -100是Pytorch中的一个特殊值，计算损失时会忽略这些位置\n",
    "        labels[y[:, 1:] == tokenizer.pad_token_id] = -100\n",
    "        ids = data['source_ids'].to(device, dtype = torch.long)\n",
    "        mask = data['source_mask'].to(device, dtype = torch.long)\n",
    "        \n",
    "        outputs = model(input_ids = ids,\n",
    "                        attention_mask = mask,\n",
    "                        decoder_input_ids = y_ids,\n",
    "                        labels = labels)\n",
    "        loss = outputs[0]\n",
    "        \n",
    "        if _%10 == 0:\n",
    "            loss_array.append(loss.item())\n",
    "        if _%500 == 0:\n",
    "            print(f'Epoch: {epoch + 1}, Loss: {loss.item()}')\n",
    "        \n",
    "        # 反向传播\n",
    "        optimizer.zero_grad()\n",
    "        loss.backward()\n",
    "        optimizer.step()"
   ]
  },
  {
   "cell_type": "markdown",
   "id": "c2881b072a1cafb8",
   "metadata": {},
   "source": [
    "### 4. 编写验证函数"
   ]
  },
  {
   "cell_type": "code",
   "execution_count": 6,
   "id": "d7318f6a9b57aa3e",
   "metadata": {
    "collapsed": false,
    "tags": []
   },
   "outputs": [],
   "source": [
    "def validate(tokenizer, model, device, loader):\n",
    "    model.eval()\n",
    "    predictions = []\n",
    "    actual = []\n",
    "    with torch.no_grad():\n",
    "        for _, data in enumerate(loader):\n",
    "            y = data['target_ids'].to(device, dtype = torch.long)\n",
    "            ids = data['source_ids'].to(device, dtype = torch.long)\n",
    "            mask = data['source_mask'].to(device, dtype = torch.long)\n",
    "            \n",
    "            generated_ids = model.generate(input_ids = ids,\n",
    "                                           attention_mask = mask,\n",
    "                                           max_length = 150,\n",
    "                                           # Beam Search的参数数量\n",
    "                                           num_beams = 2,\n",
    "                                           # 重复惩罚\n",
    "                                           repetition_penalty = 2.5,\n",
    "                                           # 长度惩罚\n",
    "                                           length_penalty = 1.0,\n",
    "                                           # 要求在遇到End of Sequence时停止\n",
    "                                           # 若设置为False，会生成直到最大长度\n",
    "                                           early_stopping = True)\n",
    "            preds = [tokenizer.decode(g,\n",
    "                                      skip_special_tokens = True,\n",
    "                                      clean_up_tokenization_spaces = True) for g in generated_ids]\n",
    "            \n",
    "            target = [tokenizer.decode(t,\n",
    "                                       skip_special_tokens = True,\n",
    "                                       clean_up_tokenization_spaces = True) for t in y]\n",
    "            \n",
    "            if _%100 == 0:\n",
    "                print(f\"Completed {_}\")\n",
    "                \n",
    "            predictions.extend(preds)\n",
    "            actual.extend(target)\n",
    "        return predictions, actual"
   ]
  },
  {
   "cell_type": "markdown",
   "id": "27820c9243b6599f",
   "metadata": {},
   "source": [
    "### 5. 五折交叉验证训练模型"
   ]
  },
  {
   "cell_type": "code",
   "execution_count": 7,
   "id": "15aacaa73bd2f40c",
   "metadata": {
    "collapsed": false,
    "tags": []
   },
   "outputs": [],
   "source": [
    "# 设定参数\n",
    "TRAIN_BATCH_SIZE = 2 # 训练的批次大小\n",
    "VALID_BATCH_SIZE = 2 # 测试的批次大小\n",
    "TRAIN_EPOCHS = 3     # 训练的轮次数量\n",
    "LEARNING_RATE = 1e-4 # 学习率\n",
    "SEED = 42            # 随机种子\n",
    "MAX_LEN = 512        # source_len\n",
    "SUMMARY_LEN = 150    # summ_len"
   ]
  },
  {
   "cell_type": "code",
   "execution_count": 8,
   "id": "224890d00c1f7069",
   "metadata": {
    "collapsed": false,
    "tags": []
   },
   "outputs": [],
   "source": [
    "# 设置随机种子\n",
    "torch.manual_seed(SEED)\n",
    "np.random.seed(SEED)\n",
    "\n",
    "# 可复现性\n",
    "torch.backends.cudnn.deterministic = True"
   ]
  },
  {
   "cell_type": "code",
   "execution_count": 9,
   "id": "145247d3ab043eac",
   "metadata": {
    "collapsed": false,
    "tags": []
   },
   "outputs": [
    {
     "name": "stderr",
     "output_type": "stream",
     "text": [
      "/root/miniconda3/lib/python3.8/site-packages/transformers/models/t5/tokenization_t5.py:240: FutureWarning: This tokenizer was incorrectly instantiated with a model max length of 512 which will be corrected in Transformers v5.\n",
      "For now, this behavior is kept to avoid breaking backwards compatibility when padding/encoding with `truncation is True`.\n",
      "- Be aware that you SHOULD NOT rely on t5-base automatically truncating your input to 512 when padding/encoding.\n",
      "- If you want to encode/pad to sequences longer than 512 you can either instantiate this tokenizer with `model_max_length` or pass `max_length` when encoding/padding.\n",
      "- To avoid this warning, please instantiate this tokenizer with `model_max_length` set to your preferred value.\n",
      "  warnings.warn(\n",
      "You are using the default legacy behaviour of the <class 'transformers.models.t5.tokenization_t5.T5Tokenizer'>. This is expected, and simply means that the `legacy` (previous) behavior will be used so nothing changes for you. If you want to use the new behaviour, set `legacy=False`. This should only be set if you understand what it means, and thouroughly read the reason why this was added as explained in https://github.com/huggingface/transformers/pull/24565\n",
      "Special tokens have been added in the vocabulary, make sure the associated word embeddings are fine-tuned or trained.\n"
     ]
    }
   ],
   "source": [
    "# Tokenizer\n",
    "tokenizer = T5Tokenizer.from_pretrained(\"t5-base\")"
   ]
  },
  {
   "cell_type": "code",
   "execution_count": 10,
   "id": "e7da56be68776e3",
   "metadata": {
    "collapsed": false,
    "tags": []
   },
   "outputs": [
    {
     "name": "stdout",
     "output_type": "stream",
     "text": [
      "                                         description  \\\n",
      "0  14 108 28 30 15 13 294 29 20 18 23 21 25 32 16...   \n",
      "1  22 12 1137 41 17 16 96 17 16 34 48 17 30 40 13...   \n",
      "2  14 108 333 30 15 13 31 29 20 829 891 21 25 11 ...   \n",
      "3  22 12 135 269 205 24 267 27 12 376 32 94 109 2...   \n",
      "4  34 12 48 63 109 28 30 40 13 1038 52 43 23 21 5...   \n",
      "\n",
      "                                           diagnosis  \n",
      "0                               22 12 38 41 17 81 10  \n",
      "1  66 75 80 116 17 81 16 33 81 16 33 24 122 370 1...  \n",
      "2                        35 48 49 150 167 308 282 10  \n",
      "3  14 49 123 55 86 57 54 40 138 124 26 105 133 13...  \n",
      "4  34 12 48 1064 86 57 54 138 10 22 12 38 41 17 8...  \n"
     ]
    }
   ],
   "source": [
    "# 导入数据\n",
    "df = pd.read_csv(\"train.csv\")\n",
    "df = df[['description', 'diagnosis']]\n",
    "print(df.head())"
   ]
  },
  {
   "cell_type": "code",
   "execution_count": 24,
   "id": "8bc54330-c38d-4af2-9d10-0bea517d5137",
   "metadata": {
    "tags": []
   },
   "outputs": [],
   "source": [
    "des_len_list = []\n",
    "diag_len_list = []\n",
    "des_list = df['description'].tolist()\n",
    "diag_list = df['diagnosis'].tolist()\n",
    "for i in range(len(des_list)):\n",
    "    des_len_list.append(len(des_list[i].split()))\n",
    "for i in range(len(diag_list)):\n",
    "    diag_len_list.append(len(diag_list[i].split()))\n",
    "\n",
    "des_len_list = np.array(des_len_list)\n",
    "diag_len_list = np.array(diag_len_list)"
   ]
  },
  {
   "cell_type": "code",
   "execution_count": 28,
   "id": "b6e29ced-64ad-413b-8651-3cc5c4f7b8fe",
   "metadata": {
    "tags": []
   },
   "outputs": [],
   "source": [
    "# 使用 numpy.unique 函数统计每个值的出现次数\n",
    "unique_des, counts_des = np.unique(des_len_list, return_counts=True)\n",
    "unique_diag, counts_diag = np.unique(diag_len_list, return_counts=True)"
   ]
  },
  {
   "cell_type": "code",
   "execution_count": 29,
   "id": "42b68633-ef22-4e24-961f-6aeaa279019b",
   "metadata": {
    "tags": []
   },
   "outputs": [
    {
     "data": {
      "image/png": "[encoded data removed]",
      "text/plain": [
       "<Figure size 640x480 with 1 Axes>"
      ]
     },
     "metadata": {},
     "output_type": "display_data"
    }
   ],
   "source": [
    "import matplotlib.pyplot as plt\n",
    "\n",
    "plt.bar(unique_des, counts_des)\n",
    "plt.show()"
   ]
  },
  {
   "cell_type": "code",
   "execution_count": 30,
   "id": "b0780bec-6805-4527-a5cb-c9f3abcf26d7",
   "metadata": {
    "tags": []
   },
   "outputs": [
    {
     "data": {
      "image/png": "[encoded data removed]",
      "text/plain": [
       "<Figure size 640x480 with 1 Axes>"
      ]
     },
     "metadata": {},
     "output_type": "display_data"
    }
   ],
   "source": [
    "plt.bar(unique_diag, counts_diag)\n",
    "plt.show()"
   ]
  },
  {
   "cell_type": "code",
   "execution_count": 17,
   "id": "bba1fb47ce86efb4",
   "metadata": {
    "collapsed": false,
    "tags": []
   },
   "outputs": [],
   "source": [
    "# 定义参数\n",
    "# num_workers = 0 表示在主进程中加载数据\n",
    "train_params = {\n",
    "    'batch_size': TRAIN_BATCH_SIZE,\n",
    "    'shuffle': True,\n",
    "    'num_workers': 0\n",
    "}\n",
    "\n",
    "val_params = {\n",
    "    'batch_size': VALID_BATCH_SIZE,\n",
    "    'shuffle': False,\n",
    "    'num_workers': 0\n",
    "}"
   ]
  },
  {
   "cell_type": "code",
   "execution_count": 14,
   "id": "9cc3e23e8637bba7",
   "metadata": {
    "collapsed": false
   },
   "outputs": [
    {
     "name": "stdout",
     "output_type": "stream",
     "text": [
      "开始模型微调\n",
      "Epoch: 1, Loss: 11.129202842712402\n",
      "Epoch: 1, Loss: 1.6353784799575806\n",
      "Epoch: 1, Loss: 1.9325711727142334\n",
      "Epoch: 1, Loss: 2.706616163253784\n",
      "Epoch: 1, Loss: 1.6612399816513062\n",
      "Epoch: 1, Loss: 2.3715221881866455\n",
      "Epoch: 1, Loss: 1.962568998336792\n",
      "Epoch: 1, Loss: 2.006688117980957\n",
      "Epoch: 1, Loss: 1.6987730264663696\n",
      "Epoch: 1, Loss: 1.2478022575378418\n",
      "Epoch: 1, Loss: 2.0609536170959473\n",
      "Epoch: 1, Loss: 1.8287955522537231\n",
      "Epoch: 1, Loss: 1.8780864477157593\n",
      "Epoch: 1, Loss: 1.0878180265426636\n",
      "Epoch: 1, Loss: 1.5201727151870728\n",
      "Epoch: 2, Loss: 1.2881861925125122\n",
      "Epoch: 2, Loss: 2.3111941814422607\n",
      "Epoch: 2, Loss: 1.2189232110977173\n",
      "Epoch: 2, Loss: 1.656742811203003\n",
      "Epoch: 2, Loss: 0.5868077278137207\n",
      "Epoch: 2, Loss: 1.3245850801467896\n",
      "Epoch: 2, Loss: 1.4059505462646484\n",
      "Epoch: 2, Loss: 1.352673053741455\n",
      "Epoch: 2, Loss: 1.1126837730407715\n",
      "Epoch: 2, Loss: 0.6306459903717041\n",
      "Epoch: 2, Loss: 2.2962682247161865\n",
      "Epoch: 2, Loss: 1.6262909173965454\n",
      "Epoch: 2, Loss: 1.8107752799987793\n",
      "Epoch: 2, Loss: 1.669398546218872\n",
      "Epoch: 2, Loss: 1.0191458463668823\n",
      "Epoch: 3, Loss: 1.2008273601531982\n",
      "Epoch: 3, Loss: 1.0794804096221924\n",
      "Epoch: 3, Loss: 1.4825804233551025\n",
      "Epoch: 3, Loss: 0.8135322332382202\n",
      "Epoch: 3, Loss: 0.7556654214859009\n",
      "Epoch: 3, Loss: 1.6920249462127686\n",
      "Epoch: 3, Loss: 0.8294586539268494\n",
      "Epoch: 3, Loss: 1.5575593709945679\n",
      "Epoch: 3, Loss: 1.0733944177627563\n",
      "Epoch: 3, Loss: 1.8306676149368286\n",
      "Epoch: 3, Loss: 1.3054593801498413\n",
      "Epoch: 3, Loss: 1.540496826171875\n",
      "Epoch: 3, Loss: 0.765545666217804\n",
      "Epoch: 3, Loss: 1.7242399454116821\n",
      "Epoch: 3, Loss: 0.8849756717681885\n",
      "在验证集上测试\n",
      "Completed 0\n",
      "Completed 100\n",
      "Completed 200\n",
      "Completed 300\n",
      "Completed 400\n",
      "Completed 500\n",
      "Completed 600\n",
      "Completed 700\n",
      "Completed 800\n",
      "Completed 900\n",
      "Completed 1000\n",
      "Completed 1100\n",
      "Completed 1200\n",
      "Completed 1300\n",
      "Completed 1400\n",
      "Completed 1500\n",
      "Completed 1600\n",
      "Completed 1700\n",
      "输出文件已保存\n",
      "Epoch: 1, Loss: 8.71115493774414\n",
      "Epoch: 1, Loss: 2.0689942836761475\n",
      "Epoch: 1, Loss: 1.9278932809829712\n",
      "Epoch: 1, Loss: 2.4199321269989014\n",
      "Epoch: 1, Loss: 0.8579864501953125\n",
      "Epoch: 1, Loss: 1.8865270614624023\n",
      "Epoch: 1, Loss: 1.1001371145248413\n",
      "Epoch: 1, Loss: 0.8085703253746033\n",
      "Epoch: 1, Loss: 1.8046753406524658\n",
      "Epoch: 1, Loss: 1.5677064657211304\n",
      "Epoch: 1, Loss: 1.2150418758392334\n",
      "Epoch: 1, Loss: 0.7479696273803711\n",
      "Epoch: 1, Loss: 1.1287436485290527\n",
      "Epoch: 1, Loss: 1.4505038261413574\n",
      "Epoch: 1, Loss: 2.152829885482788\n",
      "Epoch: 2, Loss: 1.2838793992996216\n",
      "Epoch: 2, Loss: 1.4085699319839478\n",
      "Epoch: 2, Loss: 0.8645851016044617\n",
      "Epoch: 2, Loss: 1.4572505950927734\n",
      "Epoch: 2, Loss: 1.1870312690734863\n",
      "Epoch: 2, Loss: 1.2833224534988403\n",
      "Epoch: 2, Loss: 1.6957154273986816\n",
      "Epoch: 2, Loss: 1.706896424293518\n",
      "Epoch: 2, Loss: 0.9398714303970337\n",
      "Epoch: 2, Loss: 0.5389513373374939\n",
      "Epoch: 2, Loss: 0.9741624593734741\n",
      "Epoch: 2, Loss: 1.7573730945587158\n",
      "Epoch: 2, Loss: 1.1818913221359253\n",
      "Epoch: 2, Loss: 1.0158653259277344\n",
      "Epoch: 2, Loss: 0.9731837511062622\n",
      "Epoch: 3, Loss: 0.8038111329078674\n",
      "Epoch: 3, Loss: 1.4122670888900757\n",
      "Epoch: 3, Loss: 1.4036319255828857\n",
      "Epoch: 3, Loss: 0.2979787290096283\n",
      "Epoch: 3, Loss: 1.8557490110397339\n",
      "Epoch: 3, Loss: 0.9364612102508545\n",
      "Epoch: 3, Loss: 0.7437500953674316\n",
      "Epoch: 3, Loss: 1.3436479568481445\n",
      "Epoch: 3, Loss: 1.939069390296936\n",
      "Epoch: 3, Loss: 1.0228230953216553\n",
      "Epoch: 3, Loss: 1.011183500289917\n",
      "Epoch: 3, Loss: 1.1338735818862915\n",
      "Epoch: 3, Loss: 1.6091861724853516\n",
      "Epoch: 3, Loss: 1.0943059921264648\n",
      "Epoch: 3, Loss: 0.9336007237434387\n",
      "在验证集上测试\n",
      "Completed 0\n",
      "Completed 100\n",
      "Completed 200\n",
      "Completed 300\n",
      "Completed 400\n",
      "Completed 500\n",
      "Completed 600\n",
      "Completed 700\n",
      "Completed 800\n",
      "Completed 900\n",
      "Completed 1000\n",
      "Completed 1100\n",
      "Completed 1200\n",
      "Completed 1300\n",
      "Completed 1400\n",
      "Completed 1500\n",
      "Completed 1600\n",
      "Completed 1700\n",
      "输出文件已保存\n",
      "Epoch: 1, Loss: 10.678857803344727\n",
      "Epoch: 1, Loss: 3.311342477798462\n",
      "Epoch: 1, Loss: 1.4626922607421875\n",
      "Epoch: 1, Loss: 1.699758768081665\n",
      "Epoch: 1, Loss: 1.7729369401931763\n",
      "Epoch: 1, Loss: 1.3058040142059326\n",
      "Epoch: 1, Loss: 0.9308775663375854\n",
      "Epoch: 1, Loss: 1.2878518104553223\n",
      "Epoch: 1, Loss: 1.965296745300293\n",
      "Epoch: 1, Loss: 1.908957839012146\n",
      "Epoch: 1, Loss: 0.9738687872886658\n",
      "Epoch: 1, Loss: 1.5938938856124878\n",
      "Epoch: 1, Loss: 0.6013306975364685\n",
      "Epoch: 1, Loss: 0.9681746363639832\n",
      "Epoch: 1, Loss: 0.9713044166564941\n",
      "Epoch: 2, Loss: 1.909616470336914\n",
      "Epoch: 2, Loss: 0.8537589907646179\n",
      "Epoch: 2, Loss: 0.9000970125198364\n",
      "Epoch: 2, Loss: 2.6157805919647217\n",
      "Epoch: 2, Loss: 1.2359073162078857\n",
      "Epoch: 2, Loss: 1.1543216705322266\n",
      "Epoch: 2, Loss: 1.1268826723098755\n",
      "Epoch: 2, Loss: 1.0445584058761597\n",
      "Epoch: 2, Loss: 1.3087400197982788\n",
      "Epoch: 2, Loss: 1.0392956733703613\n",
      "Epoch: 2, Loss: 0.9006205797195435\n",
      "Epoch: 2, Loss: 0.6337222456932068\n",
      "Epoch: 2, Loss: 0.47028881311416626\n",
      "Epoch: 2, Loss: 1.4580018520355225\n",
      "Epoch: 2, Loss: 1.0271296501159668\n",
      "Epoch: 3, Loss: 1.5884060859680176\n",
      "Epoch: 3, Loss: 1.1984988451004028\n",
      "Epoch: 3, Loss: 1.325891375541687\n",
      "Epoch: 3, Loss: 1.7265843152999878\n",
      "Epoch: 3, Loss: 0.8620198369026184\n",
      "Epoch: 3, Loss: 1.9462406635284424\n",
      "Epoch: 3, Loss: 1.5047916173934937\n",
      "Epoch: 3, Loss: 1.6574681997299194\n",
      "Epoch: 3, Loss: 1.4811983108520508\n",
      "Epoch: 3, Loss: 1.6115968227386475\n",
      "Epoch: 3, Loss: 1.0042362213134766\n",
      "Epoch: 3, Loss: 0.9912953972816467\n",
      "Epoch: 3, Loss: 1.196203351020813\n",
      "Epoch: 3, Loss: 1.2824432849884033\n",
      "Epoch: 3, Loss: 1.0368541479110718\n",
      "在验证集上测试\n",
      "Completed 0\n",
      "Completed 100\n",
      "Completed 200\n",
      "Completed 300\n",
      "Completed 400\n",
      "Completed 500\n",
      "Completed 600\n",
      "Completed 700\n",
      "Completed 800\n",
      "Completed 900\n",
      "Completed 1000\n",
      "Completed 1100\n",
      "Completed 1200\n",
      "Completed 1300\n",
      "Completed 1400\n",
      "Completed 1500\n",
      "Completed 1600\n",
      "Completed 1700\n",
      "输出文件已保存\n",
      "Epoch: 1, Loss: 7.0592570304870605\n",
      "Epoch: 1, Loss: 1.935691237449646\n",
      "Epoch: 1, Loss: 2.281398057937622\n",
      "Epoch: 1, Loss: 1.1702827215194702\n",
      "Epoch: 1, Loss: 1.6731843948364258\n",
      "Epoch: 1, Loss: 1.4065316915512085\n",
      "Epoch: 1, Loss: 1.9071780443191528\n",
      "Epoch: 1, Loss: 1.1289342641830444\n",
      "Epoch: 1, Loss: 1.9251877069473267\n",
      "Epoch: 1, Loss: 1.4940593242645264\n",
      "Epoch: 1, Loss: 2.040064573287964\n",
      "Epoch: 1, Loss: 1.6567178964614868\n",
      "Epoch: 1, Loss: 1.5329012870788574\n",
      "Epoch: 1, Loss: 1.7194944620132446\n",
      "Epoch: 1, Loss: 1.2160618305206299\n",
      "Epoch: 2, Loss: 2.0592918395996094\n",
      "Epoch: 2, Loss: 1.3889104127883911\n",
      "Epoch: 2, Loss: 0.9917854070663452\n",
      "Epoch: 2, Loss: 1.9071499109268188\n",
      "Epoch: 2, Loss: 1.2468563318252563\n",
      "Epoch: 2, Loss: 1.9973433017730713\n",
      "Epoch: 2, Loss: 1.4580276012420654\n",
      "Epoch: 2, Loss: 1.4930260181427002\n",
      "Epoch: 2, Loss: 0.9943782091140747\n",
      "Epoch: 2, Loss: 2.1471974849700928\n",
      "Epoch: 2, Loss: 1.4181827306747437\n",
      "Epoch: 2, Loss: 1.0442231893539429\n",
      "Epoch: 2, Loss: 0.5141372084617615\n",
      "Epoch: 2, Loss: 1.928648591041565\n",
      "Epoch: 2, Loss: 0.7244589924812317\n",
      "Epoch: 3, Loss: 0.6175829172134399\n",
      "Epoch: 3, Loss: 0.9853963255882263\n",
      "Epoch: 3, Loss: 0.9586997032165527\n",
      "Epoch: 3, Loss: 1.3201830387115479\n",
      "Epoch: 3, Loss: 1.52395498752594\n",
      "Epoch: 3, Loss: 1.4168026447296143\n",
      "Epoch: 3, Loss: 1.2453025579452515\n",
      "Epoch: 3, Loss: 0.7871134877204895\n",
      "Epoch: 3, Loss: 2.0046701431274414\n",
      "Epoch: 3, Loss: 0.7888085842132568\n",
      "Epoch: 3, Loss: 0.3592345118522644\n",
      "Epoch: 3, Loss: 1.1914457082748413\n",
      "Epoch: 3, Loss: 1.5740443468093872\n",
      "Epoch: 3, Loss: 1.314733624458313\n",
      "Epoch: 3, Loss: 0.8983897566795349\n",
      "在验证集上测试\n",
      "Completed 0\n",
      "Completed 100\n",
      "Completed 200\n",
      "Completed 300\n",
      "Completed 400\n",
      "Completed 500\n",
      "Completed 600\n",
      "Completed 700\n",
      "Completed 800\n",
      "Completed 900\n",
      "Completed 1000\n",
      "Completed 1100\n",
      "Completed 1200\n",
      "Completed 1300\n",
      "Completed 1400\n",
      "Completed 1500\n",
      "Completed 1600\n",
      "Completed 1700\n",
      "输出文件已保存\n",
      "Epoch: 1, Loss: 7.688475131988525\n",
      "Epoch: 1, Loss: 2.120734691619873\n",
      "Epoch: 1, Loss: 2.381483554840088\n",
      "Epoch: 1, Loss: 1.3296890258789062\n",
      "Epoch: 1, Loss: 1.8816826343536377\n",
      "Epoch: 1, Loss: 1.4472390413284302\n",
      "Epoch: 1, Loss: 1.1589618921279907\n",
      "Epoch: 1, Loss: 0.8991148471832275\n",
      "Epoch: 1, Loss: 1.5789732933044434\n",
      "Epoch: 1, Loss: 1.6514636278152466\n",
      "Epoch: 1, Loss: 1.5785753726959229\n",
      "Epoch: 1, Loss: 1.1094485521316528\n",
      "Epoch: 1, Loss: 1.6656121015548706\n",
      "Epoch: 1, Loss: 0.9777480363845825\n",
      "Epoch: 1, Loss: 1.435073971748352\n",
      "Epoch: 2, Loss: 1.3950295448303223\n",
      "Epoch: 2, Loss: 1.5164862871170044\n",
      "Epoch: 2, Loss: 2.0241692066192627\n",
      "Epoch: 2, Loss: 2.2989907264709473\n",
      "Epoch: 2, Loss: 0.7573702335357666\n",
      "Epoch: 2, Loss: 1.1953225135803223\n",
      "Epoch: 2, Loss: 1.2446184158325195\n",
      "Epoch: 2, Loss: 1.1802074909210205\n",
      "Epoch: 2, Loss: 0.7404505014419556\n",
      "Epoch: 2, Loss: 0.5462313890457153\n",
      "Epoch: 2, Loss: 2.0947954654693604\n",
      "Epoch: 2, Loss: 1.0995197296142578\n",
      "Epoch: 2, Loss: 1.6630151271820068\n",
      "Epoch: 2, Loss: 1.0032742023468018\n",
      "Epoch: 2, Loss: 1.5193923711776733\n",
      "Epoch: 3, Loss: 1.7137057781219482\n",
      "Epoch: 3, Loss: 0.6357887983322144\n",
      "Epoch: 3, Loss: 1.5035691261291504\n",
      "Epoch: 3, Loss: 1.1817981004714966\n",
      "Epoch: 3, Loss: 1.151198148727417\n",
      "Epoch: 3, Loss: 1.191165804862976\n",
      "Epoch: 3, Loss: 0.9718366265296936\n",
      "Epoch: 3, Loss: 1.4591233730316162\n",
      "Epoch: 3, Loss: 0.594299852848053\n",
      "Epoch: 3, Loss: 1.3639456033706665\n",
      "Epoch: 3, Loss: 1.6518324613571167\n",
      "Epoch: 3, Loss: 1.2460029125213623\n",
      "Epoch: 3, Loss: 1.4113526344299316\n",
      "Epoch: 3, Loss: 1.2590930461883545\n",
      "Epoch: 3, Loss: 0.615882396697998\n",
      "在验证集上测试\n",
      "Completed 0\n",
      "Completed 100\n",
      "Completed 200\n",
      "Completed 300\n",
      "Completed 400\n",
      "Completed 500\n",
      "Completed 600\n",
      "Completed 700\n",
      "Completed 800\n",
      "Completed 900\n",
      "Completed 1000\n",
      "Completed 1100\n",
      "Completed 1200\n",
      "Completed 1300\n",
      "Completed 1400\n",
      "Completed 1500\n",
      "Completed 1600\n",
      "Completed 1700\n",
      "输出文件已保存\n"
     ]
    }
   ],
   "source": [
    "# 正式开始训练\n",
    "print(\"开始模型微调\")\n",
    "\n",
    "num = 1\n",
    "kfolds = KFold(n_splits=5, shuffle=True, random_state=42)\n",
    "for train_index, test_index in kfolds.split(df):\n",
    "    des_trainset = df['description'][train_index]\n",
    "    dia_trainset = df['diagnosis'][train_index]\n",
    "    des_valset = df['description'][test_index]\n",
    "    dia_valset = df['diagnosis'][test_index]\n",
    "    train_dataset = pd.concat([des_trainset, dia_trainset], axis = 1).reset_index(drop = True)\n",
    "    val_dataset = pd.concat([des_valset, dia_valset], axis = 1).reset_index(drop = True)\n",
    "    \n",
    "    training_set = MedicalDataset(train_dataset, tokenizer, MAX_LEN, SUMMARY_LEN)\n",
    "    val_set = MedicalDataset(val_dataset, tokenizer, MAX_LEN, SUMMARY_LEN)\n",
    "    \n",
    "    training_loader = DataLoader(training_set, **train_params)\n",
    "    val_loader = DataLoader(val_set, **val_params)\n",
    "    \n",
    "    # 使用预训练的T5-base模型\n",
    "    model = T5ForConditionalGeneration.from_pretrained(\"t5-base\")\n",
    "    model = model.to(device)\n",
    "    \n",
    "    # 定义优化器，使用Adam\n",
    "    optimizer = torch.optim.Adam(params = model.parameters(), lr = LEARNING_RATE)\n",
    "    \n",
    "    for epoch in range(TRAIN_EPOCHS):\n",
    "        train(epoch, tokenizer, model, device, training_loader, optimizer)\n",
    "        \n",
    "    print(\"在验证集上测试\")\n",
    "\n",
    "    predictions, actual = validate(tokenizer, model, device, val_loader)\n",
    "    final_df = pd.DataFrame({'Generated Text':predictions, 'Actual Text':actual})\n",
    "    final_df.to_csv('predictions' + str(num) + '.csv')\n",
    "    num = num + 1\n",
    "    \n",
    "    print(\"输出文件已保存\")"
   ]
  },
  {
   "cell_type": "markdown",
   "id": "57079bd8b01b96c3",
   "metadata": {},
   "source": [
    "### 6. 测试在验证集上的表现"
   ]
  },
  {
   "cell_type": "code",
   "execution_count": 7,
   "id": "9876920b7c818e74",
   "metadata": {
    "collapsed": false,
    "tags": []
   },
   "outputs": [
    {
     "name": "stderr",
     "output_type": "stream",
     "text": [
      "/root/miniconda3/lib/python3.8/site-packages/nltk/translate/bleu_score.py:552: UserWarning: \n",
      "The hypothesis contains 0 counts of 4-gram overlaps.\n",
      "Therefore the BLEU score evaluates to 0, independently of\n",
      "how many N-gram overlaps of lower order it contains.\n",
      "Consider using lower n-gram order or use SmoothingFunction()\n",
      "  warnings.warn(_msg)\n",
      "/root/miniconda3/lib/python3.8/site-packages/nltk/translate/bleu_score.py:552: UserWarning: \n",
      "The hypothesis contains 0 counts of 3-gram overlaps.\n",
      "Therefore the BLEU score evaluates to 0, independently of\n",
      "how many N-gram overlaps of lower order it contains.\n",
      "Consider using lower n-gram order or use SmoothingFunction()\n",
      "  warnings.warn(_msg)\n"
     ]
    },
    {
     "name": "stdout",
     "output_type": "stream",
     "text": [
      "The precision of Rouge 1 is: 0.6334480731977741\n",
      "The recall of Rouge 1 is: 0.40595730433375243\n",
      "The F1 of Rouge 1 is: 0.4617937761904676\n",
      "The precision of Rouge 2 is: 0.4257467225280719\n",
      "The recall of Rouge 2 is: 0.264591059370733\n",
      "The F1 of Rouge 2 is: 0.30201917703403053\n",
      "The precision of Rouge l is: 0.608457545769165\n",
      "The recall of Rouge l is: 0.38856235331242617\n",
      "The F1 of Rouge l is: 0.44240694041869805\n",
      "BLEU Score: 0.3087068653929864\n",
      "METEOR Score: 0.36785623411155066\n",
      "----------------------------------------\n"
     ]
    },
    {
     "name": "stderr",
     "output_type": "stream",
     "text": [
      "/root/miniconda3/lib/python3.8/site-packages/nltk/translate/bleu_score.py:552: UserWarning: \n",
      "The hypothesis contains 0 counts of 4-gram overlaps.\n",
      "Therefore the BLEU score evaluates to 0, independently of\n",
      "how many N-gram overlaps of lower order it contains.\n",
      "Consider using lower n-gram order or use SmoothingFunction()\n",
      "  warnings.warn(_msg)\n"
     ]
    },
    {
     "name": "stdout",
     "output_type": "stream",
     "text": [
      "The precision of Rouge 1 is: 0.6232592420832826\n",
      "The recall of Rouge 1 is: 0.39922597180235314\n",
      "The F1 of Rouge 1 is: 0.4572006003525956\n",
      "The precision of Rouge 2 is: 0.41260488025463415\n",
      "The recall of Rouge 2 is: 0.26208287902495403\n",
      "The F1 of Rouge 2 is: 0.2986008440415351\n",
      "The precision of Rouge l is: 0.5989009816036573\n",
      "The recall of Rouge l is: 0.38396258345351525\n",
      "The F1 of Rouge l is: 0.4394392798311479\n",
      "BLEU Score: 0.3040686061047891\n",
      "METEOR Score: 0.3613637419539785\n",
      "----------------------------------------\n"
     ]
    },
    {
     "name": "stderr",
     "output_type": "stream",
     "text": [
      "/root/miniconda3/lib/python3.8/site-packages/nltk/translate/bleu_score.py:552: UserWarning: \n",
      "The hypothesis contains 0 counts of 4-gram overlaps.\n",
      "Therefore the BLEU score evaluates to 0, independently of\n",
      "how many N-gram overlaps of lower order it contains.\n",
      "Consider using lower n-gram order or use SmoothingFunction()\n",
      "  warnings.warn(_msg)\n",
      "/root/miniconda3/lib/python3.8/site-packages/nltk/translate/bleu_score.py:552: UserWarning: \n",
      "The hypothesis contains 0 counts of 3-gram overlaps.\n",
      "Therefore the BLEU score evaluates to 0, independently of\n",
      "how many N-gram overlaps of lower order it contains.\n",
      "Consider using lower n-gram order or use SmoothingFunction()\n",
      "  warnings.warn(_msg)\n"
     ]
    },
    {
     "name": "stdout",
     "output_type": "stream",
     "text": [
      "The precision of Rouge 1 is: 0.6232522432856581\n",
      "The recall of Rouge 1 is: 0.41804190313072154\n",
      "The F1 of Rouge 1 is: 0.4706128917756586\n",
      "The precision of Rouge 2 is: 0.4185688900942835\n",
      "The recall of Rouge 2 is: 0.2761733742501748\n",
      "The F1 of Rouge 2 is: 0.30992189900090517\n",
      "The precision of Rouge l is: 0.599036075572837\n",
      "The recall of Rouge l is: 0.4022251072195083\n",
      "The F1 of Rouge l is: 0.4525000908478149\n",
      "BLEU Score: 0.32256216471783655\n",
      "METEOR Score: 0.3799176032192976\n",
      "----------------------------------------\n"
     ]
    },
    {
     "name": "stderr",
     "output_type": "stream",
     "text": [
      "/root/miniconda3/lib/python3.8/site-packages/nltk/translate/bleu_score.py:552: UserWarning: \n",
      "The hypothesis contains 0 counts of 4-gram overlaps.\n",
      "Therefore the BLEU score evaluates to 0, independently of\n",
      "how many N-gram overlaps of lower order it contains.\n",
      "Consider using lower n-gram order or use SmoothingFunction()\n",
      "  warnings.warn(_msg)\n",
      "/root/miniconda3/lib/python3.8/site-packages/nltk/translate/bleu_score.py:552: UserWarning: \n",
      "The hypothesis contains 0 counts of 3-gram overlaps.\n",
      "Therefore the BLEU score evaluates to 0, independently of\n",
      "how many N-gram overlaps of lower order it contains.\n",
      "Consider using lower n-gram order or use SmoothingFunction()\n",
      "  warnings.warn(_msg)\n"
     ]
    },
    {
     "name": "stdout",
     "output_type": "stream",
     "text": [
      "The precision of Rouge 1 is: 0.5925092249547469\n",
      "The recall of Rouge 1 is: 0.36653600035386635\n",
      "The F1 of Rouge 1 is: 0.42562978401640283\n",
      "The precision of Rouge 2 is: 0.3963513013477084\n",
      "The recall of Rouge 2 is: 0.23960691707123816\n",
      "The F1 of Rouge 2 is: 0.2781478248607089\n",
      "The precision of Rouge l is: 0.570837765758919\n",
      "The recall of Rouge l is: 0.35278000354945943\n",
      "The F1 of Rouge l is: 0.4096866142834225\n",
      "BLEU Score: 0.27848973625025547\n",
      "METEOR Score: 0.33129029008522565\n",
      "----------------------------------------\n"
     ]
    },
    {
     "name": "stderr",
     "output_type": "stream",
     "text": [
      "/root/miniconda3/lib/python3.8/site-packages/nltk/translate/bleu_score.py:552: UserWarning: \n",
      "The hypothesis contains 0 counts of 4-gram overlaps.\n",
      "Therefore the BLEU score evaluates to 0, independently of\n",
      "how many N-gram overlaps of lower order it contains.\n",
      "Consider using lower n-gram order or use SmoothingFunction()\n",
      "  warnings.warn(_msg)\n"
     ]
    },
    {
     "name": "stdout",
     "output_type": "stream",
     "text": [
      "The precision of Rouge 1 is: 0.6697403642362889\n",
      "The recall of Rouge 1 is: 0.4015294132283951\n",
      "The F1 of Rouge 1 is: 0.47357117915531466\n",
      "The precision of Rouge 2 is: 0.45860917676685337\n",
      "The recall of Rouge 2 is: 0.26291362740363133\n",
      "The F1 of Rouge 2 is: 0.31211652989057825\n",
      "The precision of Rouge l is: 0.646920304608545\n",
      "The recall of Rouge l is: 0.3888074145063792\n",
      "The F1 of Rouge l is: 0.4580273902010671\n",
      "BLEU Score: 0.2907393866802122\n",
      "METEOR Score: 0.3648656546467428\n",
      "----------------------------------------\n"
     ]
    }
   ],
   "source": [
    "for i in range(1, 6):\n",
    "    df = pd.read_csv(\"predictions\" + str(i) + \".csv\")\n",
    "    rouge1_p = 0\n",
    "    rouge1_r = 0\n",
    "    rouge1_f = 0\n",
    "    rouge2_p = 0\n",
    "    rouge2_r = 0\n",
    "    rouge2_f = 0\n",
    "    rougel_p = 0\n",
    "    rougel_r = 0\n",
    "    rougel_f = 0\n",
    "    bleu_average = 0\n",
    "    meteor_average = 0\n",
    "    rouge = Rouge()\n",
    "    for i in range(3600):\n",
    "        answer = df[\"Actual Text\"][i]\n",
    "        summary = df[\"Generated Text\"][i]\n",
    "        scores = rouge.get_scores(summary, answer)\n",
    "        rouge1_p += scores[0][\"rouge-1\"][\"p\"] / 3600\n",
    "        rouge1_r += scores[0][\"rouge-1\"][\"r\"] / 3600\n",
    "        rouge1_f += scores[0][\"rouge-1\"][\"f\"] / 3600\n",
    "        rouge2_p += scores[0][\"rouge-2\"][\"p\"] / 3600\n",
    "        rouge2_r += scores[0][\"rouge-2\"][\"r\"] / 3600\n",
    "        rouge2_f += scores[0][\"rouge-2\"][\"f\"] / 3600\n",
    "        rougel_p += scores[0][\"rouge-l\"][\"p\"] / 3600\n",
    "        rougel_r += scores[0][\"rouge-l\"][\"r\"] / 3600\n",
    "        rougel_f += scores[0][\"rouge-l\"][\"f\"] / 3600\n",
    "        answer_nltk = [answer]\n",
    "        bleu_average += sentence_bleu(answer_nltk, summary) / 3600\n",
    "        summary_tokens = summary.split()\n",
    "        answer_nltk_2 = [reference.split() for reference in answer_nltk]\n",
    "        meteor_average += meteor_score.meteor_score(answer_nltk_2, summary_tokens) / 3600\n",
    "    \n",
    "    print(\"The precision of Rouge 1 is:\", rouge1_p)\n",
    "    print(\"The recall of Rouge 1 is:\", rouge1_r)\n",
    "    print(\"The F1 of Rouge 1 is:\", rouge1_f)\n",
    "    print(\"The precision of Rouge 2 is:\", rouge2_p)\n",
    "    print(\"The recall of Rouge 2 is:\", rouge2_r)\n",
    "    print(\"The F1 of Rouge 2 is:\", rouge2_f)\n",
    "    print(\"The precision of Rouge l is:\", rougel_p)\n",
    "    print(\"The recall of Rouge l is:\", rougel_r)\n",
    "    print(\"The F1 of Rouge l is:\", rougel_f)\n",
    "    print(\"BLEU Score:\", bleu_average)\n",
    "    print(\"METEOR Score:\", meteor_average)\n",
    "    print(\"----------------------------------------\")"
   ]
  },
  {
   "cell_type": "markdown",
   "id": "9531ba430ab36a85",
   "metadata": {},
   "source": [
    "### 7. 使用全部训练集训练模型"
   ]
  },
  {
   "cell_type": "code",
   "execution_count": 18,
   "id": "5fb7856ccbd02b85",
   "metadata": {
    "collapsed": false,
    "tags": []
   },
   "outputs": [
    {
     "name": "stdout",
     "output_type": "stream",
     "text": [
      "                                         description  \\\n",
      "0  14 108 28 30 15 13 294 29 20 18 23 21 25 32 16...   \n",
      "1  22 12 1137 41 17 16 96 17 16 34 48 17 30 40 13...   \n",
      "2  14 108 333 30 15 13 31 29 20 829 891 21 25 11 ...   \n",
      "3  22 12 135 269 205 24 267 27 12 376 32 94 109 2...   \n",
      "4  34 12 48 63 109 28 30 40 13 1038 52 43 23 21 5...   \n",
      "\n",
      "                                           diagnosis  \n",
      "0                               22 12 38 41 17 81 10  \n",
      "1  66 75 80 116 17 81 16 33 81 16 33 24 122 370 1...  \n",
      "2                        35 48 49 150 167 308 282 10  \n",
      "3  14 49 123 55 86 57 54 40 138 124 26 105 133 13...  \n",
      "4  34 12 48 1064 86 57 54 138 10 22 12 38 41 17 8...  \n"
     ]
    }
   ],
   "source": [
    "# 导入数据\n",
    "df = pd.read_csv(\"train.csv\")\n",
    "df = df[['description', 'diagnosis']]\n",
    "print(df.head())\n",
    "\n",
    "# 创建符合格式预期的数据集\n",
    "training_set = MedicalDataset(df, tokenizer, MAX_LEN, SUMMARY_LEN)\n",
    "training_loader = DataLoader(training_set, **train_params)\n",
    "\n",
    "# 使用预训练的T5-base模型\n",
    "model = T5ForConditionalGeneration.from_pretrained(\"t5-base\")\n",
    "model = model.to(device)\n",
    "\n",
    "# 定义优化器，使用Adam\n",
    "optimizer = torch.optim.Adam(params = model.parameters(), lr = LEARNING_RATE)"
   ]
  },
  {
   "cell_type": "code",
   "execution_count": 19,
   "id": "83918dd3-e120-45a8-bff3-f60d25bb14e2",
   "metadata": {
    "tags": []
   },
   "outputs": [
    {
     "name": "stdout",
     "output_type": "stream",
     "text": [
      "开始模型微调\n",
      "Epoch: 1, Loss: 8.903597831726074\n",
      "Epoch: 1, Loss: 2.116220474243164\n",
      "Epoch: 1, Loss: 1.3851369619369507\n",
      "Epoch: 1, Loss: 2.468543767929077\n",
      "Epoch: 1, Loss: 1.5264686346054077\n",
      "Epoch: 1, Loss: 1.843280553817749\n",
      "Epoch: 1, Loss: 1.3375622034072876\n",
      "Epoch: 1, Loss: 1.6534206867218018\n",
      "Epoch: 1, Loss: 2.1570675373077393\n",
      "Epoch: 1, Loss: 1.6730105876922607\n",
      "Epoch: 1, Loss: 0.8825479745864868\n",
      "Epoch: 1, Loss: 1.1177932024002075\n",
      "Epoch: 1, Loss: 2.12724232673645\n",
      "Epoch: 1, Loss: 2.3386847972869873\n",
      "Epoch: 1, Loss: 0.8231897950172424\n",
      "Epoch: 1, Loss: 1.0412274599075317\n",
      "Epoch: 1, Loss: 1.471829891204834\n",
      "Epoch: 1, Loss: 1.633987545967102\n",
      "Epoch: 2, Loss: 1.2102771997451782\n",
      "Epoch: 2, Loss: 1.8720906972885132\n",
      "Epoch: 2, Loss: 1.6819136142730713\n",
      "Epoch: 2, Loss: 0.971398115158081\n",
      "Epoch: 2, Loss: 1.4370980262756348\n",
      "Epoch: 2, Loss: 1.947583556175232\n",
      "Epoch: 2, Loss: 1.7901825904846191\n",
      "Epoch: 2, Loss: 1.3096225261688232\n",
      "Epoch: 2, Loss: 1.7297186851501465\n",
      "Epoch: 2, Loss: 0.9738976955413818\n",
      "Epoch: 2, Loss: 1.8955434560775757\n",
      "Epoch: 2, Loss: 1.4557257890701294\n",
      "Epoch: 2, Loss: 0.882133960723877\n",
      "Epoch: 2, Loss: 0.9627922773361206\n",
      "Epoch: 2, Loss: 1.2031370401382446\n",
      "Epoch: 2, Loss: 1.3422808647155762\n",
      "Epoch: 2, Loss: 1.318725824356079\n",
      "Epoch: 2, Loss: 1.558520793914795\n",
      "Epoch: 3, Loss: 1.3272901773452759\n",
      "Epoch: 3, Loss: 1.4860650300979614\n",
      "Epoch: 3, Loss: 0.8718463182449341\n",
      "Epoch: 3, Loss: 1.7512284517288208\n",
      "Epoch: 3, Loss: 1.6189303398132324\n",
      "Epoch: 3, Loss: 1.9979256391525269\n",
      "Epoch: 3, Loss: 0.79324871301651\n",
      "Epoch: 3, Loss: 0.8558676242828369\n",
      "Epoch: 3, Loss: 1.203575611114502\n",
      "Epoch: 3, Loss: 0.9109829664230347\n",
      "Epoch: 3, Loss: 1.062626838684082\n",
      "Epoch: 3, Loss: 0.8313874006271362\n",
      "Epoch: 3, Loss: 1.0755559206008911\n",
      "Epoch: 3, Loss: 1.5409754514694214\n",
      "Epoch: 3, Loss: 0.7147617340087891\n",
      "Epoch: 3, Loss: 0.6524988412857056\n",
      "Epoch: 3, Loss: 0.6793943643569946\n",
      "Epoch: 3, Loss: 1.151456594467163\n"
     ]
    }
   ],
   "source": [
    "# 正式开始训练\n",
    "print(\"开始模型微调\")\n",
    "\n",
    "for epoch in range(TRAIN_EPOCHS):\n",
    "    train(epoch, tokenizer, model, device, training_loader, optimizer)"
   ]
  },
  {
   "cell_type": "code",
   "execution_count": 33,
   "id": "a7833ea8-70a9-47bd-b45c-e7a7661c58ea",
   "metadata": {
    "tags": []
   },
   "outputs": [
    {
     "data": {
      "image/png": "[encoded data removed]",
      "text/plain": [
       "<Figure size 640x480 with 1 Axes>"
      ]
     },
     "metadata": {},
     "output_type": "display_data"
    }
   ],
   "source": [
    "# 绘制损失函数曲线图\n",
    "import matplotlib.pyplot as plt\n",
    "\n",
    "# 创建 x 轴的坐标，这里使用列表的索引作为 x 轴坐标\n",
    "x = list(range(1, len(loss_array) + 1))\n",
    "\n",
    "plt.plot(x, loss_array, color='b', label='Loss')\n",
    "\n",
    "plt.title('Loss Through the Training Process')\n",
    "plt.ylabel('Loss')\n",
    "\n",
    "plt.legend()\n",
    "plt.show()"
   ]
  },
  {
   "cell_type": "code",
   "execution_count": 32,
   "id": "6b2a48d84b8eac46",
   "metadata": {
    "collapsed": false,
    "tags": []
   },
   "outputs": [
    {
     "name": "stdout",
     "output_type": "stream",
     "text": [
      "   index                                        description  \\\n",
      "0      0  185 185 185 185 22 12 116 71 64 694 40 13 146 ...   \n",
      "1      1  14 281 28 30 15 13 20 18 23 21 25 10 14 32 101...   \n",
      "2      2  34 12 129 373 27 160 181 75 100 31 29 92 177 1...   \n",
      "3      3  22 12 48 16 85 63 109 28 16 74 914 64 56 40 13...   \n",
      "4      4  35 12 163 63 103 63 12 142 13 45 52 139 195 21...   \n",
      "\n",
      "                                           diagnosis  \n",
      "0  22 12 74 71 823 56 91 208 73 14 198 209 14 426...  \n",
      "1           34 12 49 167 57 92 11 117 118 316 441 10  \n",
      "2  34 12 129 373 27 160 181 77 75 100 308 282 76 ...  \n",
      "3  14 66 55 86 57 54 10 185 295 14 1236 208 14 19...  \n",
      "4  227 185 35 12 163 63 16 103 63 14 190 57 76 24...  \n"
     ]
    }
   ],
   "source": [
    "df_test = pd.read_csv(\"test.csv\")\n",
    "val_dataset = df_test[['description', 'diagnosis']]\n",
    "print(df_test.head())\n",
    "\n",
    "val_set = MedicalDataset(val_dataset, tokenizer, MAX_LEN, SUMMARY_LEN)\n",
    "val_loader = DataLoader(val_set, **val_params)"
   ]
  },
  {
   "cell_type": "code",
   "execution_count": 22,
   "id": "e32fe1bcaba53395",
   "metadata": {
    "collapsed": false,
    "tags": []
   },
   "outputs": [
    {
     "name": "stdout",
     "output_type": "stream",
     "text": [
      "在测试集上测试\n",
      "Completed 0\n",
      "Completed 100\n",
      "Completed 200\n",
      "Completed 300\n",
      "Completed 400\n",
      "Completed 500\n",
      "Completed 600\n",
      "Completed 700\n",
      "Completed 800\n",
      "Completed 900\n",
      "输出文件已保存\n"
     ]
    }
   ],
   "source": [
    "print(\"在测试集上测试\")\n",
    "\n",
    "predictions, actual = validate(tokenizer, model, device, val_loader)\n",
    "final_df = pd.DataFrame({'Generated Text':predictions, 'Actual Text':actual})\n",
    "final_df.to_csv('predictions.csv')\n",
    "\n",
    "print(\"输出文件已保存\")"
   ]
  },
  {
   "cell_type": "markdown",
   "id": "94a79021-60d7-49c7-a19a-68b1a86a46e7",
   "metadata": {},
   "source": [
    "### 8. 评价在测试集上的表现"
   ]
  },
  {
   "cell_type": "code",
   "execution_count": 46,
   "id": "39b462dac438060c",
   "metadata": {
    "collapsed": false,
    "tags": []
   },
   "outputs": [
    {
     "name": "stderr",
     "output_type": "stream",
     "text": [
      "/root/miniconda3/lib/python3.8/site-packages/nltk/translate/bleu_score.py:552: UserWarning: \n",
      "The hypothesis contains 0 counts of 4-gram overlaps.\n",
      "Therefore the BLEU score evaluates to 0, independently of\n",
      "how many N-gram overlaps of lower order it contains.\n",
      "Consider using lower n-gram order or use SmoothingFunction()\n",
      "  warnings.warn(_msg)\n"
     ]
    },
    {
     "name": "stdout",
     "output_type": "stream",
     "text": [
      "The precision of Rouge 1 is: 0.6659794703595994\n",
      "The recall of Rouge 1 is: 0.4036529011454539\n",
      "The F1 of Rouge 1 is: 0.47196475167291824\n",
      "The precision of Rouge 2 is: 0.46008146758608987\n",
      "The recall of Rouge 2 is: 0.2718558631262256\n",
      "The F1 of Rouge 2 is: 0.3175838082419594\n",
      "The precision of Rouge l is: 0.6451009529071929\n",
      "The recall of Rouge l is: 0.3915105995019245\n",
      "The F1 of Rouge l is: 0.45753176984789845\n",
      "BLEU Score: 0.3015368099454507\n",
      "METEOR Score: 0.37053383966503006\n"
     ]
    }
   ],
   "source": [
    "df = pd.read_csv(\"predictions.csv\")\n",
    "rouge1_p = 0\n",
    "rouge1_r = 0\n",
    "rouge1_f = 0\n",
    "rouge2_p = 0\n",
    "rouge2_r = 0\n",
    "rouge2_f = 0\n",
    "rougel_p = 0\n",
    "rougel_r = 0\n",
    "rougel_f = 0\n",
    "bleu_average = 0\n",
    "meteor_average = 0\n",
    "rouge = Rouge()\n",
    "for i in range(2000):\n",
    "    answer = df[\"Actual Text\"][i]\n",
    "    summary = df[\"Generated Text\"][i]\n",
    "    scores = rouge.get_scores(summary, answer)\n",
    "    rouge1_p += scores[0][\"rouge-1\"][\"p\"] / 2000\n",
    "    rouge1_r += scores[0][\"rouge-1\"][\"r\"] / 2000\n",
    "    rouge1_f += scores[0][\"rouge-1\"][\"f\"] / 2000\n",
    "    rouge2_p += scores[0][\"rouge-2\"][\"p\"] / 2000\n",
    "    rouge2_r += scores[0][\"rouge-2\"][\"r\"] / 2000\n",
    "    rouge2_f += scores[0][\"rouge-2\"][\"f\"] / 2000\n",
    "    rougel_p += scores[0][\"rouge-l\"][\"p\"] / 2000\n",
    "    rougel_r += scores[0][\"rouge-l\"][\"r\"] / 2000\n",
    "    rougel_f += scores[0][\"rouge-l\"][\"f\"] / 2000\n",
    "    answer_nltk = [answer]\n",
    "    bleu_average += sentence_bleu(answer_nltk, summary) / 2000\n",
    "    summary_tokens = summary.split()\n",
    "    answer_nltk_2 = [reference.split() for reference in answer_nltk]\n",
    "    meteor_average += meteor_score.meteor_score(answer_nltk_2, summary_tokens) / 2000\n",
    "\n",
    "print(\"The precision of Rouge 1 is:\", rouge1_p)\n",
    "print(\"The recall of Rouge 1 is:\", rouge1_r)\n",
    "print(\"The F1 of Rouge 1 is:\", rouge1_f)\n",
    "print(\"The precision of Rouge 2 is:\", rouge2_p)\n",
    "print(\"The recall of Rouge 2 is:\", rouge2_r)\n",
    "print(\"The F1 of Rouge 2 is:\", rouge2_f)\n",
    "print(\"The precision of Rouge l is:\", rougel_p)\n",
    "print(\"The recall of Rouge l is:\", rougel_r)\n",
    "print(\"The F1 of Rouge l is:\", rougel_f)\n",
    "print(\"BLEU Score:\", bleu_average)\n",
    "print(\"METEOR Score:\", meteor_average)"
   ]
  }
 ],
 "metadata": {
  "kernelspec": {
   "display_name": "Python 3 (ipykernel)",
   "language": "python",
   "name": "python3"
  },
  "language_info": {
   "codemirror_mode": {
    "name": "ipython",
    "version": 3
   },
   "file_extension": ".py",
   "mimetype": "text/x-python",
   "name": "python",
   "nbconvert_exporter": "python",
   "pygments_lexer": "ipython3",
   "version": "3.8.10"
  }
 },
 "nbformat": 4,
 "nbformat_minor": 5
}
