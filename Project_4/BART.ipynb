{
 "cells": [
  {
   "cell_type": "markdown",
   "id": "6ffc41a7448294c8",
   "metadata": {},
   "source": [
    "# Text Summarization\n",
    "## —— Based on BART (Bilingual Evaluation Understudy)"
   ]
  },
  {
   "cell_type": "markdown",
   "id": "f2faa5672ac0b66c",
   "metadata": {},
   "source": [
    "在这里，我们将尝试使用BART框架，基于AutoDL云上服务器，使用训练集对模型进行微调，从而尝试实现文本摘要。\n",
    "\n",
    "本次实验是在参阅了大量技术文档后编写的，并且还在实验过程中发现了一些在网络上编写技术文档的人的代码错误。在这里，我们提供可以运行与复现结果的代码。\n",
    "\n",
    "Reference github repository: https://github.com/abhimishra91/transformers-tutorials/blob/master/transformers_summarization_wandb.ipynb"
   ]
  },
  {
   "cell_type": "markdown",
   "id": "dd8833c48790ca87",
   "metadata": {},
   "source": [
    "### 1. 调取必要模块 "
   ]
  },
  {
   "cell_type": "code",
   "execution_count": 1,
   "id": "5f7660c0aef41db7",
   "metadata": {
    "collapsed": false,
    "tags": []
   },
   "outputs": [],
   "source": [
    "# 基础模块\n",
    "import numpy as np\n",
    "import pandas as pd\n",
    "from rouge import Rouge\n",
    "import torch\n",
    "import torch.nn.functional as F\n",
    "from sklearn.model_selection import KFold\n",
    "from nltk.translate.bleu_score import sentence_bleu\n",
    "from nltk.translate import meteor_score\n",
    "from torch.utils.data import Dataset, DataLoader, RandomSampler, SequentialSampler\n",
    "\n",
    "# 基于Transformers架构的T5框架\n",
    "from transformers import BartTokenizer, BartForConditionalGeneration"
   ]
  },
  {
   "cell_type": "code",
   "execution_count": 2,
   "id": "78dd218ec32ef5fb",
   "metadata": {
    "collapsed": false,
    "tags": []
   },
   "outputs": [],
   "source": [
    "# 这段代码的目的是在AutoDL云上服务器中开启加速\n",
    "# 从而更快地获取来自HuggingFace的内容\n",
    "# 选自AutoDL的帮助文档\n",
    "# 个人建议在AutoDL的环境下运行，或直接不运行这段代码。否则可能出现错误。\n",
    "\n",
    "\"\"\"\n",
    "如果在载入模块时连接时间过长，可以启用这段代码\n",
    "建议在AutoDL的环境下运行，或自行配置合适的环境\n",
    "否则可能出现错误！\n",
    "\"\"\"\n",
    "# import subprocess\n",
    "# import os\n",
    "# \n",
    "# result = subprocess.run('bash -c \"source /etc/network_turbo && env | grep proxy\"', shell=True, capture_output=True, text=True)\n",
    "# output = result.stdout\n",
    "# for line in output.splitlines():\n",
    "#     if '=' in line:\n",
    "#         var, value = line.split('=', 1)\n",
    "#         os.environ[var] = value"
   ]
  },
  {
   "cell_type": "code",
   "execution_count": 3,
   "id": "578dcb89e6f56c2b",
   "metadata": {
    "collapsed": false,
    "tags": []
   },
   "outputs": [
    {
     "name": "stdout",
     "output_type": "stream",
     "text": [
      "cuda\n"
     ]
    }
   ],
   "source": [
    "# 调用GPU\n",
    "# 本人租用的服务器采用了具有2块GPU的RTX 4090\n",
    "from torch import cuda\n",
    "device = \"cuda\" if cuda.is_available() else \"cpu\"\n",
    "\n",
    "print(device)"
   ]
  },
  {
   "cell_type": "markdown",
   "id": "67d005c666d589b8",
   "metadata": {},
   "source": [
    "### 2. 自定义数据集\n",
    "基于train.csv设计的自定义数据集，为后续神经网络的微调做准备。"
   ]
  },
  {
   "cell_type": "code",
   "execution_count": 4,
   "id": "482dbe2570190591",
   "metadata": {
    "collapsed": false,
    "tags": []
   },
   "outputs": [],
   "source": [
    "class MedicalDataset(Dataset):\n",
    "\n",
    "    def __init__(self, dataframe, tokenizer, source_len, summ_len):\n",
    "        # tokenizer: 用于分词\n",
    "        self.tokenizer = tokenizer\n",
    "        # data: 存储数据\n",
    "        self.data = dataframe\n",
    "        # description的内容的长度\n",
    "        self.source_len = source_len\n",
    "        # diagnosis的内容的长度\n",
    "        self.summ_len = summ_len\n",
    "        # csv文件中description列的内容\n",
    "        self.description = self.data.description\n",
    "        # csv文件中diagnosis列的内容\n",
    "        self.diagnosis = self.data.diagnosis\n",
    "\n",
    "    # 返回数据的数量\n",
    "    def __len__(self):\n",
    "        return len(self.description)\n",
    "    \n",
    "    def __getitem__(self, index):\n",
    "        # 如果文本中有多个连续空格\n",
    "        # 则合并为一个空格\n",
    "        diagnosis = str(self.diagnosis[index])\n",
    "        diagnosis = ' '.join(diagnosis.split())\n",
    "        description = str(self.description[index])\n",
    "        description = ' '.join(description.split())\n",
    "        # batch_encode_plus将文本转为模型可以处理的编码\n",
    "        source = self.tokenizer.batch_encode_plus([description],\n",
    "                                                  max_length = self.source_len,     # 指定编码后文本最大长度\n",
    "                                                  padding = 'max_length',           # 填充使得每个文本长度相同\n",
    "                                                  return_tensors = 'pt',            # 返回Pytorch的张量\n",
    "                                                  truncation = True)                # 如果超过最大长度，需要截断\n",
    "        target = self.tokenizer.batch_encode_plus([diagnosis],\n",
    "                                                  max_length = self.summ_len,       # 指定编码后文本最大长度\n",
    "                                                  padding = 'max_length',           # 填充使得每个文本长度相同\n",
    "                                                  return_tensors = 'pt',            # 返回Pytorch的张量\n",
    "                                                  truncation = True)                # 如果超过最大长度，需要截断\n",
    "        \n",
    "        # Pytorch中的squeeze函数移除大小为1的维度\n",
    "        # 张量形状更紧凑\n",
    "        # input_ids返回了编码后的文本的token IDs\n",
    "        # attention_mask二进制掩码，表明哪些位置是填充，注意力机制不应放在填充位置\n",
    "        source_ids = source['input_ids'].squeeze()\n",
    "        source_mask = source['attention_mask'].squeeze()\n",
    "        target_ids = target['input_ids'].squeeze()\n",
    "\n",
    "        return {\n",
    "            'source_ids': source_ids.to(dtype=torch.long),\n",
    "            'source_mask': source_mask.to(dtype=torch.long),\n",
    "            'target_ids': target_ids.to(dtype=torch.long)\n",
    "        }"
   ]
  },
  {
   "cell_type": "markdown",
   "id": "f9244c70a3d8e9d2",
   "metadata": {},
   "source": [
    "### 3. 编写训练函数\n",
    "训练集会经过训练函数，从而达成模型的微调。"
   ]
  },
  {
   "cell_type": "code",
   "execution_count": 5,
   "id": "ee0555abee060b04",
   "metadata": {
    "collapsed": false,
    "tags": []
   },
   "outputs": [],
   "source": [
    "loss_array = []\n",
    "\n",
    "def train(epoch, tokenizer, model, device, loader, optimizer):\n",
    "    model.train()\n",
    "    for _, data in enumerate(loader):\n",
    "        y = data['target_ids'].to(device, dtype = torch.long)\n",
    "        # 获取 y 的每一行，且不要最后一个标记\n",
    "        # 用contiguous使张量连续\n",
    "        y_ids = y[:, :-1].contiguous()\n",
    "        # detach让labels不用参与梯度计算\n",
    "        labels = y[:, 1:].clone().detach()\n",
    "        # 填充位置对应的损失值设为-100\n",
    "        # -100是Pytorch中的一个特殊值，计算损失时会忽略这些位置\n",
    "        labels[y[:, 1:] == tokenizer.pad_token_id] = -100\n",
    "        ids = data['source_ids'].to(device, dtype = torch.long)\n",
    "        mask = data['source_mask'].to(device, dtype = torch.long)\n",
    "        \n",
    "        outputs = model(input_ids = ids,\n",
    "                        attention_mask = mask,\n",
    "                        decoder_input_ids = y_ids,\n",
    "                        labels = labels)\n",
    "        loss = outputs[0]\n",
    "        \n",
    "        if _%10 == 0:\n",
    "            loss_array.append(loss.item())\n",
    "        if _%500 == 0:\n",
    "            print(f'Epoch: {epoch + 1}, Loss: {loss.item()}')\n",
    "        \n",
    "        # 反向传播\n",
    "        optimizer.zero_grad()\n",
    "        loss.backward()\n",
    "        optimizer.step()"
   ]
  },
  {
   "cell_type": "markdown",
   "id": "12c3ac417b4590ee",
   "metadata": {},
   "source": [
    "### 4. 编写验证函数"
   ]
  },
  {
   "cell_type": "code",
   "execution_count": 6,
   "id": "90a7133dfc33e210",
   "metadata": {
    "collapsed": false,
    "tags": []
   },
   "outputs": [],
   "source": [
    "def validate(tokenizer, model, device, loader):\n",
    "    model.eval()\n",
    "    predictions = []\n",
    "    actual = []\n",
    "    with torch.no_grad():\n",
    "        for _, data in enumerate(loader):\n",
    "            y = data['target_ids'].to(device, dtype = torch.long)\n",
    "            ids = data['source_ids'].to(device, dtype = torch.long)\n",
    "            mask = data['source_mask'].to(device, dtype = torch.long)\n",
    "            \n",
    "            generated_ids = model.generate(input_ids = ids,\n",
    "                                           attention_mask = mask,\n",
    "                                           max_length = 200,\n",
    "                                           # Beam Search的参数数量\n",
    "                                           num_beams = 2,\n",
    "                                           # 重复惩罚\n",
    "                                           repetition_penalty = 2.5,\n",
    "                                           # 长度惩罚\n",
    "                                           length_penalty = 1.0,\n",
    "                                           # 要求在遇到End of Sequence时停止\n",
    "                                           # 若设置为False，会生成直到最大长度\n",
    "                                           early_stopping = True)\n",
    "            preds = [tokenizer.decode(g,\n",
    "                                      skip_special_tokens = True,\n",
    "                                      clean_up_tokenization_spaces = True) for g in generated_ids]\n",
    "            \n",
    "            target = [tokenizer.decode(t,\n",
    "                                       skip_special_tokens = True,\n",
    "                                       clean_up_tokenization_spaces = True) for t in y]\n",
    "            \n",
    "            if _%100 == 0:\n",
    "                print(f\"Completed {_}\")\n",
    "                \n",
    "            predictions.extend(preds)\n",
    "            actual.extend(target)\n",
    "        return predictions, actual"
   ]
  },
  {
   "cell_type": "markdown",
   "id": "ceda27d6d991d2c2",
   "metadata": {},
   "source": [
    "### 5. 训练模型"
   ]
  },
  {
   "cell_type": "code",
   "execution_count": 7,
   "id": "981257649e7c9038",
   "metadata": {
    "collapsed": false,
    "tags": []
   },
   "outputs": [],
   "source": [
    "# 设定参数\n",
    "TRAIN_BATCH_SIZE = 2 # 训练的批次大小\n",
    "VALID_BATCH_SIZE = 2 # 测试的批次大小\n",
    "TRAIN_EPOCHS = 3     # 训练的轮次数量\n",
    "LEARNING_RATE = 1e-4 # 学习率\n",
    "SEED = 42            # 随机种子\n",
    "MAX_LEN = 512        # source_len\n",
    "SUMMARY_LEN = 200    # summ_len"
   ]
  },
  {
   "cell_type": "code",
   "execution_count": 8,
   "id": "e1d55fa97f714c15",
   "metadata": {
    "collapsed": false,
    "tags": []
   },
   "outputs": [],
   "source": [
    "# 设置随机种子\n",
    "torch.manual_seed(SEED)\n",
    "np.random.seed(SEED)\n",
    "\n",
    "# 可复现性\n",
    "torch.backends.cudnn.deterministic = True"
   ]
  },
  {
   "cell_type": "code",
   "execution_count": 9,
   "id": "133e41d6e788bc77",
   "metadata": {
    "collapsed": false,
    "tags": []
   },
   "outputs": [],
   "source": [
    "# Tokenizer\n",
    "tokenizer = BartTokenizer.from_pretrained(\"facebook/bart-base\")"
   ]
  },
  {
   "cell_type": "code",
   "execution_count": 10,
   "id": "5ceb9ba5612ac33e",
   "metadata": {
    "collapsed": false,
    "tags": []
   },
   "outputs": [
    {
     "name": "stdout",
     "output_type": "stream",
     "text": [
      "                                         description  \\\n",
      "0  14 108 28 30 15 13 294 29 20 18 23 21 25 32 16...   \n",
      "1  22 12 1137 41 17 16 96 17 16 34 48 17 30 40 13...   \n",
      "2  14 108 333 30 15 13 31 29 20 829 891 21 25 11 ...   \n",
      "3  22 12 135 269 205 24 267 27 12 376 32 94 109 2...   \n",
      "4  34 12 48 63 109 28 30 40 13 1038 52 43 23 21 5...   \n",
      "\n",
      "                                           diagnosis  \n",
      "0                               22 12 38 41 17 81 10  \n",
      "1  66 75 80 116 17 81 16 33 81 16 33 24 122 370 1...  \n",
      "2                        35 48 49 150 167 308 282 10  \n",
      "3  14 49 123 55 86 57 54 40 138 124 26 105 133 13...  \n",
      "4  34 12 48 1064 86 57 54 138 10 22 12 38 41 17 8...  \n"
     ]
    }
   ],
   "source": [
    "# 导入数据\n",
    "df = pd.read_csv(\"train.csv\")\n",
    "df = df[['description', 'diagnosis']]\n",
    "print(df.head())"
   ]
  },
  {
   "cell_type": "code",
   "execution_count": 11,
   "outputs": [],
   "source": [
    "# 定义参数\n",
    "# num_workers = 0 表示在主进程中加载数据\n",
    "train_params = {\n",
    "    'batch_size': TRAIN_BATCH_SIZE,\n",
    "    'shuffle': True,\n",
    "    'num_workers': 0\n",
    "}\n",
    "\n",
    "val_params = {\n",
    "    'batch_size': VALID_BATCH_SIZE,\n",
    "    'shuffle': False,\n",
    "    'num_workers': 0\n",
    "}"
   ],
   "metadata": {
    "collapsed": false
   },
   "id": "f4ce65eb82bfaea7"
  },
  {
   "cell_type": "code",
   "execution_count": 15,
   "id": "1a364428157d94f7",
   "metadata": {
    "collapsed": false,
    "tags": []
   },
   "outputs": [
    {
     "name": "stdout",
     "output_type": "stream",
     "text": [
      "                                         description  \\\n",
      "0  14 108 28 30 15 13 294 29 20 18 23 21 25 32 16...   \n",
      "1  22 12 1137 41 17 16 96 17 16 34 48 17 30 40 13...   \n",
      "2  14 108 333 30 15 13 31 29 20 829 891 21 25 11 ...   \n",
      "3  22 12 135 269 205 24 267 27 12 376 32 94 109 2...   \n",
      "4  34 12 48 63 109 28 30 40 13 1038 52 43 23 21 5...   \n",
      "\n",
      "                                           diagnosis  \n",
      "0                               22 12 38 41 17 81 10  \n",
      "1  66 75 80 116 17 81 16 33 81 16 33 24 122 370 1...  \n",
      "2                        35 48 49 150 167 308 282 10  \n",
      "3  14 49 123 55 86 57 54 40 138 124 26 105 133 13...  \n",
      "4  34 12 48 1064 86 57 54 138 10 22 12 38 41 17 8...  \n"
     ]
    }
   ],
   "source": [
    "# 导入数据\n",
    "df = pd.read_csv(\"train.csv\")\n",
    "df = df[['description', 'diagnosis']]\n",
    "print(df.head())\n",
    "\n",
    "# 创建符合格式预期的数据集\n",
    "training_set = MedicalDataset(df, tokenizer, MAX_LEN, SUMMARY_LEN)\n",
    "training_loader = DataLoader(training_set, **train_params)\n",
    "\n",
    "# 使用预训练的T5-base模型\n",
    "model = BartForConditionalGeneration.from_pretrained(\"facebook/bart-base\")\n",
    "model = model.to(device)\n",
    "\n",
    "# 定义优化器，使用Adam\n",
    "optimizer = torch.optim.Adam(params = model.parameters(), lr = LEARNING_RATE)"
   ]
  },
  {
   "cell_type": "code",
   "execution_count": 16,
   "id": "2b264d3e4c37218b",
   "metadata": {
    "collapsed": false,
    "tags": []
   },
   "outputs": [
    {
     "name": "stdout",
     "output_type": "stream",
     "text": [
      "开始模型微调\n",
      "Epoch: 1, Loss: 7.01186990737915\n",
      "Epoch: 1, Loss: 4.748305797576904\n",
      "Epoch: 1, Loss: 3.6500799655914307\n",
      "Epoch: 1, Loss: 2.1577937602996826\n",
      "Epoch: 1, Loss: 2.0433881282806396\n",
      "Epoch: 1, Loss: 2.156229257583618\n",
      "Epoch: 1, Loss: 1.3087271451950073\n",
      "Epoch: 1, Loss: 1.366681456565857\n",
      "Epoch: 1, Loss: 3.512167453765869\n",
      "Epoch: 1, Loss: 1.9891910552978516\n",
      "Epoch: 1, Loss: 1.9585500955581665\n",
      "Epoch: 1, Loss: 2.299180269241333\n",
      "Epoch: 1, Loss: 2.5831809043884277\n",
      "Epoch: 1, Loss: 2.563215494155884\n",
      "Epoch: 1, Loss: 1.6537789106369019\n",
      "Epoch: 1, Loss: 1.3894035816192627\n",
      "Epoch: 1, Loss: 2.7646074295043945\n",
      "Epoch: 1, Loss: 2.113461971282959\n",
      "Epoch: 2, Loss: 2.35563063621521\n",
      "Epoch: 2, Loss: 2.6693053245544434\n",
      "Epoch: 2, Loss: 1.6176177263259888\n",
      "Epoch: 2, Loss: 1.9760687351226807\n",
      "Epoch: 2, Loss: 1.5883495807647705\n",
      "Epoch: 2, Loss: 1.0219988822937012\n",
      "Epoch: 2, Loss: 1.674642562866211\n",
      "Epoch: 2, Loss: 1.5471633672714233\n",
      "Epoch: 2, Loss: 2.074522018432617\n",
      "Epoch: 2, Loss: 2.4399609565734863\n",
      "Epoch: 2, Loss: 0.762092649936676\n",
      "Epoch: 2, Loss: 2.11283278465271\n",
      "Epoch: 2, Loss: 2.4735841751098633\n",
      "Epoch: 2, Loss: 2.0691046714782715\n",
      "Epoch: 2, Loss: 0.7170712947845459\n",
      "Epoch: 2, Loss: 1.53980553150177\n",
      "Epoch: 2, Loss: 1.799576759338379\n",
      "Epoch: 2, Loss: 1.9289436340332031\n",
      "Epoch: 3, Loss: 1.8981620073318481\n",
      "Epoch: 3, Loss: 1.124618649482727\n",
      "Epoch: 3, Loss: 1.5846285820007324\n",
      "Epoch: 3, Loss: 2.510261297225952\n",
      "Epoch: 3, Loss: 0.9689115285873413\n",
      "Epoch: 3, Loss: 3.190035343170166\n",
      "Epoch: 3, Loss: 1.9475330114364624\n",
      "Epoch: 3, Loss: 1.0890311002731323\n",
      "Epoch: 3, Loss: 2.778106212615967\n",
      "Epoch: 3, Loss: 1.7406561374664307\n",
      "Epoch: 3, Loss: 2.1066975593566895\n",
      "Epoch: 3, Loss: 2.446183919906616\n",
      "Epoch: 3, Loss: 1.3498880863189697\n",
      "Epoch: 3, Loss: 1.6582173109054565\n",
      "Epoch: 3, Loss: 1.6714776754379272\n",
      "Epoch: 3, Loss: 1.3814316987991333\n",
      "Epoch: 3, Loss: 1.3732266426086426\n",
      "Epoch: 3, Loss: 1.6853395700454712\n"
     ]
    }
   ],
   "source": [
    "# 正式开始训练\n",
    "print(\"开始模型微调\")\n",
    "\n",
    "for epoch in range(TRAIN_EPOCHS):\n",
    "    train(epoch, tokenizer, model, device, training_loader, optimizer)"
   ]
  },
  {
   "cell_type": "code",
   "execution_count": 17,
   "id": "fb953a65df79054a",
   "metadata": {
    "collapsed": false,
    "tags": []
   },
   "outputs": [
    {
     "data": {
      "image/png": "[encoded data removed]",
      "text/plain": [
       "<Figure size 640x480 with 1 Axes>"
      ]
     },
     "metadata": {},
     "output_type": "display_data"
    }
   ],
   "source": [
    "# 绘制损失函数曲线图\n",
    "import matplotlib.pyplot as plt\n",
    "\n",
    "# 创建 x 轴的坐标，这里使用列表的索引作为 x 轴坐标\n",
    "x = list(range(1, len(loss_array) + 1))\n",
    "\n",
    "plt.plot(x, loss_array, color='b', label='Loss')\n",
    "\n",
    "plt.title('Loss Through the Training Process')\n",
    "plt.ylabel('Loss')\n",
    "\n",
    "plt.legend()\n",
    "plt.show()"
   ]
  },
  {
   "cell_type": "code",
   "execution_count": 18,
   "id": "5eb042b1f18d8a55",
   "metadata": {
    "collapsed": false,
    "tags": []
   },
   "outputs": [
    {
     "name": "stdout",
     "output_type": "stream",
     "text": [
      "   index                                        description  \\\n",
      "0      0  185 185 185 185 22 12 116 71 64 694 40 13 146 ...   \n",
      "1      1  14 281 28 30 15 13 20 18 23 21 25 10 14 32 101...   \n",
      "2      2  34 12 129 373 27 160 181 75 100 31 29 92 177 1...   \n",
      "3      3  22 12 48 16 85 63 109 28 16 74 914 64 56 40 13...   \n",
      "4      4  35 12 163 63 103 63 12 142 13 45 52 139 195 21...   \n",
      "\n",
      "                                           diagnosis  \n",
      "0  22 12 74 71 823 56 91 208 73 14 198 209 14 426...  \n",
      "1           34 12 49 167 57 92 11 117 118 316 441 10  \n",
      "2  34 12 129 373 27 160 181 77 75 100 308 282 76 ...  \n",
      "3  14 66 55 86 57 54 10 185 295 14 1236 208 14 19...  \n",
      "4  227 185 35 12 163 63 16 103 63 14 190 57 76 24...  \n"
     ]
    }
   ],
   "source": [
    "df_test = pd.read_csv(\"test.csv\")\n",
    "val_dataset = df_test[['description', 'diagnosis']]\n",
    "print(df_test.head())\n",
    "\n",
    "val_set = MedicalDataset(val_dataset, tokenizer, MAX_LEN, SUMMARY_LEN)\n",
    "val_loader = DataLoader(val_set, **val_params)"
   ]
  },
  {
   "cell_type": "code",
   "execution_count": 19,
   "id": "9595ebd3d1f1924a",
   "metadata": {
    "collapsed": false,
    "tags": []
   },
   "outputs": [
    {
     "name": "stdout",
     "output_type": "stream",
     "text": [
      "在测试集上测试\n",
      "Completed 0\n",
      "Completed 100\n",
      "Completed 200\n",
      "Completed 300\n",
      "Completed 400\n",
      "Completed 500\n",
      "Completed 600\n",
      "Completed 700\n",
      "Completed 800\n",
      "Completed 900\n",
      "输出文件已保存\n"
     ]
    }
   ],
   "source": [
    "print(\"在测试集上测试\")\n",
    "\n",
    "predictions, actual = validate(tokenizer, model, device, val_loader)\n",
    "final_df = pd.DataFrame({'Generated Text':predictions, 'Actual Text':actual})\n",
    "final_df.to_csv('predictions_bart.csv')\n",
    "\n",
    "print(\"输出文件已保存\")"
   ]
  },
  {
   "cell_type": "code",
   "execution_count": 20,
   "id": "c4bb0854f72b0a41",
   "metadata": {
    "collapsed": false,
    "tags": []
   },
   "outputs": [
    {
     "name": "stderr",
     "output_type": "stream",
     "text": [
      "/root/miniconda3/lib/python3.8/site-packages/nltk/translate/bleu_score.py:552: UserWarning: \n",
      "The hypothesis contains 0 counts of 4-gram overlaps.\n",
      "Therefore the BLEU score evaluates to 0, independently of\n",
      "how many N-gram overlaps of lower order it contains.\n",
      "Consider using lower n-gram order or use SmoothingFunction()\n",
      "  warnings.warn(_msg)\n"
     ]
    },
    {
     "name": "stdout",
     "output_type": "stream",
     "text": [
      "The precision of Rouge 1 is: 0.6401956596795175\n",
      "The recall of Rouge 1 is: 0.543213155613839\n",
      "The F1 of Rouge 1 is: 0.5638466452776829\n",
      "The precision of Rouge 2 is: 0.44762273095909794\n",
      "The recall of Rouge 2 is: 0.38038737751066887\n",
      "The F1 of Rouge 2 is: 0.39279798111789754\n",
      "The precision of Rouge l is: 0.6087588595722079\n",
      "The recall of Rouge l is: 0.5174279034447854\n",
      "The F1 of Rouge l is: 0.5365382938270415\n",
      "BLEU Score: 0.4648433070353966\n",
      "METEOR Score: 0.4968411448617106\n"
     ]
    }
   ],
   "source": [
    "df = pd.read_csv(\"predictions_bart.csv\")\n",
    "rouge1_p = 0\n",
    "rouge1_r = 0\n",
    "rouge1_f = 0\n",
    "rouge2_p = 0\n",
    "rouge2_r = 0\n",
    "rouge2_f = 0\n",
    "rougel_p = 0\n",
    "rougel_r = 0\n",
    "rougel_f = 0\n",
    "bleu_average = 0\n",
    "meteor_average = 0\n",
    "rouge = Rouge()\n",
    "for i in range(2000):\n",
    "    answer = df[\"Actual Text\"][i]\n",
    "    summary = df[\"Generated Text\"][i]\n",
    "    scores = rouge.get_scores(summary, answer)\n",
    "    rouge1_p += scores[0][\"rouge-1\"][\"p\"] / 2000\n",
    "    rouge1_r += scores[0][\"rouge-1\"][\"r\"] / 2000\n",
    "    rouge1_f += scores[0][\"rouge-1\"][\"f\"] / 2000\n",
    "    rouge2_p += scores[0][\"rouge-2\"][\"p\"] / 2000\n",
    "    rouge2_r += scores[0][\"rouge-2\"][\"r\"] / 2000\n",
    "    rouge2_f += scores[0][\"rouge-2\"][\"f\"] / 2000\n",
    "    rougel_p += scores[0][\"rouge-l\"][\"p\"] / 2000\n",
    "    rougel_r += scores[0][\"rouge-l\"][\"r\"] / 2000\n",
    "    rougel_f += scores[0][\"rouge-l\"][\"f\"] / 2000\n",
    "    answer_nltk = [answer]\n",
    "    bleu_average += sentence_bleu(answer_nltk, summary) / 2000\n",
    "    summary_tokens = summary.split()\n",
    "    answer_nltk_2 = [reference.split() for reference in answer_nltk]\n",
    "    meteor_average += meteor_score.meteor_score(answer_nltk_2, summary_tokens) / 2000\n",
    "\n",
    "print(\"The precision of Rouge 1 is:\", rouge1_p)\n",
    "print(\"The recall of Rouge 1 is:\", rouge1_r)\n",
    "print(\"The F1 of Rouge 1 is:\", rouge1_f)\n",
    "print(\"The precision of Rouge 2 is:\", rouge2_p)\n",
    "print(\"The recall of Rouge 2 is:\", rouge2_r)\n",
    "print(\"The F1 of Rouge 2 is:\", rouge2_f)\n",
    "print(\"The precision of Rouge l is:\", rougel_p)\n",
    "print(\"The recall of Rouge l is:\", rougel_r)\n",
    "print(\"The F1 of Rouge l is:\", rougel_f)\n",
    "print(\"BLEU Score:\", bleu_average)\n",
    "print(\"METEOR Score:\", meteor_average)"
   ]
  },
  {
   "cell_type": "code",
   "execution_count": 2,
   "outputs": [
    {
     "data": {
      "text/plain": "<Figure size 640x480 with 1 Axes>",
      "image/png": "[encoded data removed]"
     },
     "metadata": {},
     "output_type": "display_data"
    }
   ],
   "source": [
    "x_values = np.arange(11)\n",
    "y1_values = [0.666, 0.404, 0.472, 0.460, 0.272, 0.318, 0.645, 0.392, 0.458, 0.302, 0.371]\n",
    "y2_values = [0.640, 0.543, 0.564, 0.448, 0.380, 0.393, 0.609, 0.517, 0.537, 0.465, 0.497]\n",
    "\n",
    "bar_width = 0.35\n",
    "\n",
    "plt.bar(x_values, y1_values, width=bar_width, label='T5')\n",
    "plt.bar(x_values + bar_width, y2_values, width=bar_width, label='BART')\n",
    "\n",
    "plt.xlabel('Different Criterion')\n",
    "plt.ylabel('Value')\n",
    "plt.title('T5 and BART Comparison')\n",
    "\n",
    "plt.xticks(x_values + bar_width / 2, x_values)\n",
    "\n",
    "plt.legend()\n",
    "plt.show()"
   ],
   "metadata": {
    "collapsed": false,
    "ExecuteTime": {
     "end_time": "2023-12-25T18:30:39.640341900Z",
     "start_time": "2023-12-25T18:30:39.454608400Z"
    }
   },
   "id": "88ce4d28b9b2ef73"
  }
 ],
 "metadata": {
  "kernelspec": {
   "display_name": "Python 3 (ipykernel)",
   "language": "python",
   "name": "python3"
  },
  "language_info": {
   "codemirror_mode": {
    "name": "ipython",
    "version": 3
   },
   "file_extension": ".py",
   "mimetype": "text/x-python",
   "name": "python",
   "nbconvert_exporter": "python",
   "pygments_lexer": "ipython3",
   "version": "3.8.10"
  }
 },
 "nbformat": 4,
 "nbformat_minor": 5
}
