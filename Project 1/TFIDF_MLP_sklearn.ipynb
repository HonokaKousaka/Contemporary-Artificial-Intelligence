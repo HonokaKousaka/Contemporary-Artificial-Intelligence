{
 "cells": [
  {
   "cell_type": "markdown",
   "source": [
    "# 当代人工智能实验一：文本分类\n",
    "## ——TF-IDF & Multilayer Perceptron (sklearn)"
   ],
   "metadata": {
    "collapsed": false
   }
  },
  {
   "cell_type": "markdown",
   "source": [
    "### 一. 引入必要模块\n",
    "numpy将用于数据的处理。\n",
    "time用于记录代码运行时间。\n",
    "MLPClassifier用于运行多层感知机。\n",
    "train_test_split用于进行训练集与验证集的划分。\n",
    "classification_report用于衡量模型的训练表现。"
   ],
   "metadata": {
    "collapsed": false
   }
  },
  {
   "cell_type": "code",
   "execution_count": 1,
   "outputs": [],
   "source": [
    "import time\n",
    "import numpy as np\n",
    "from sklearn.model_selection import train_test_split\n",
    "from sklearn.neural_network import MLPClassifier\n",
    "from sklearn.metrics import classification_report"
   ],
   "metadata": {
    "collapsed": false
   }
  },
  {
   "cell_type": "markdown",
   "source": [
    "### 二. 载入数据"
   ],
   "metadata": {
    "collapsed": false
   }
  },
  {
   "cell_type": "code",
   "execution_count": 2,
   "outputs": [],
   "source": [
    "labelList = np.load('labelList.npy')\n",
    "textList = np.load('textVectorList.npy')\n",
    "result_list = np.load('result_list.npy')"
   ],
   "metadata": {
    "collapsed": false
   }
  },
  {
   "cell_type": "markdown",
   "source": [
    "### 三. 利用训练集数据训练多层感知机模型\n",
    "使用sklearn中的MLPClassifier模块。\n",
    "在这里，我们通过蒙特卡洛交叉验证来验证模型的正确性。"
   ],
   "metadata": {
    "collapsed": false
   }
  },
  {
   "cell_type": "code",
   "execution_count": 3,
   "outputs": [
    {
     "name": "stdout",
     "output_type": "stream",
     "text": [
      "平均运行时间为： 204.26693372726442\n",
      "模型准确率： 0.9636000000000001\n",
      "模型精确度： 0.9642711530691942\n",
      "模型召回率： 0.9636000000000001\n",
      "模型F1-score： 0.9635754716251934\n"
     ]
    }
   ],
   "source": [
    "# 划分训练集与测试集，这里选取12.5%的数据作为测试集，剩余数据作为训练集。\n",
    "# random_state数值是不同会让训练集与测试集不同，若写为None则每次都随机生成。\n",
    "accuracyTotal = 0\n",
    "precisionTotal = 0\n",
    "recallTotal = 0\n",
    "f1Total = 0\n",
    "LOOP_NUMBER = 5\n",
    "target_names = ['class_0', 'class_1', 'class_2', 'class_3', 'class_4', 'class_5', 'class_6', 'class_7', 'class_8', 'class_9']\n",
    "\n",
    "start_time = time.time()\n",
    "for loop in range(LOOP_NUMBER):\n",
    "    text_train, text_test, label_train, label_test = train_test_split(textList, labelList, test_size=0.125, random_state=None)\n",
    "    mlp_classifier = MLPClassifier(hidden_layer_sizes=(10,), max_iter=1000, random_state=42)\n",
    "    mlp_classifier.fit(text_train, label_train)\n",
    "    y_pred = mlp_classifier.predict(text_test)\n",
    "    accuracy = mlp_classifier.score(text_test, label_test)\n",
    "    classification_rep = classification_report(label_test, y_pred, target_names=target_names, output_dict=True)\n",
    "    # 提取相应的指标值\n",
    "    precision = classification_rep['weighted avg']['precision']\n",
    "    recall = classification_rep['weighted avg']['recall']\n",
    "    f1 = classification_rep['weighted avg']['f1-score']\n",
    "\n",
    "    accuracyTotal += accuracy\n",
    "    precisionTotal += precision\n",
    "    recallTotal += recall\n",
    "    f1Total += f1\n",
    "\n",
    "end_time = time.time()\n",
    "# 计算平均值\n",
    "runtime = (end_time - start_time) / LOOP_NUMBER\n",
    "accuracy_avg = accuracyTotal / LOOP_NUMBER\n",
    "precision_avg = precisionTotal / LOOP_NUMBER\n",
    "recall_avg = recallTotal / LOOP_NUMBER\n",
    "f1_avg = f1Total / LOOP_NUMBER\n",
    "\n",
    "print(\"平均运行时间为：\", runtime)\n",
    "print(\"模型准确率：\", accuracy_avg)\n",
    "print(\"模型精确度：\", precision_avg)\n",
    "print(\"模型召回率：\", recall_avg)\n",
    "print(\"模型F1-score：\", f1_avg)"
   ],
   "metadata": {
    "collapsed": false
   }
  },
  {
   "cell_type": "markdown",
   "source": [
    "我们发现代码的运行时间过长。一个可能的影响因素是，我们对隐藏层设置的过多的神经元，因此现在我们试图减少神经元的个数，观察效果。"
   ],
   "metadata": {
    "collapsed": false
   }
  },
  {
   "cell_type": "code",
   "execution_count": 4,
   "outputs": [
    {
     "name": "stdout",
     "output_type": "stream",
     "text": [
      "平均运行时间为： 200.68755502700805\n",
      "模型准确率： 0.9476000000000001\n",
      "模型精确度： 0.9490088607438402\n",
      "模型召回率： 0.9476000000000001\n",
      "模型F1-score： 0.9475414237913533\n"
     ]
    }
   ],
   "source": [
    "# 划分训练集与测试集，这里选取12.5%的数据作为测试集，剩余数据作为训练集。\n",
    "# random_state数值是不同会让训练集与测试集不同，若写为None则每次都随机生成。\n",
    "accuracyTotal = 0\n",
    "precisionTotal = 0\n",
    "recallTotal = 0\n",
    "f1Total = 0\n",
    "LOOP_NUMBER = 5\n",
    "target_names = ['class_0', 'class_1', 'class_2', 'class_3', 'class_4', 'class_5', 'class_6', 'class_7', 'class_8', 'class_9']\n",
    "\n",
    "start_time = time.time()\n",
    "for loop in range(LOOP_NUMBER):\n",
    "    text_train, text_test, label_train, label_test = train_test_split(textList, labelList, test_size=0.125, random_state=None)\n",
    "    mlp_classifier = MLPClassifier(hidden_layer_sizes=(5,), max_iter=1000, random_state=42)\n",
    "    mlp_classifier.fit(text_train, label_train)\n",
    "    y_pred = mlp_classifier.predict(text_test)\n",
    "    accuracy = mlp_classifier.score(text_test, label_test)\n",
    "    classification_rep = classification_report(label_test, y_pred, target_names=target_names, output_dict=True)\n",
    "    # 提取相应的指标值\n",
    "    precision = classification_rep['weighted avg']['precision']\n",
    "    recall = classification_rep['weighted avg']['recall']\n",
    "    f1 = classification_rep['weighted avg']['f1-score']\n",
    "\n",
    "    accuracyTotal += accuracy\n",
    "    precisionTotal += precision\n",
    "    recallTotal += recall\n",
    "    f1Total += f1\n",
    "\n",
    "end_time = time.time()\n",
    "# 计算平均值\n",
    "runtime = (end_time - start_time) / LOOP_NUMBER\n",
    "accuracy_avg = accuracyTotal / LOOP_NUMBER\n",
    "precision_avg = precisionTotal / LOOP_NUMBER\n",
    "recall_avg = recallTotal / LOOP_NUMBER\n",
    "f1_avg = f1Total / LOOP_NUMBER\n",
    "\n",
    "print(\"平均运行时间为：\", runtime)\n",
    "print(\"模型准确率：\", accuracy_avg)\n",
    "print(\"模型精确度：\", precision_avg)\n",
    "print(\"模型召回率：\", recall_avg)\n",
    "print(\"模型F1-score：\", f1_avg)"
   ],
   "metadata": {
    "collapsed": false
   }
  },
  {
   "cell_type": "markdown",
   "source": [
    "发现平均运行时间有略微下降，但准确率、精确度、召回率与F1-Score却有明显的下降。\n",
    "接下来，我们对多层感知机更换激活函数。我们将激活函数由默认的ReLU更换为在之前表现不错的Logistic函数。"
   ],
   "metadata": {
    "collapsed": false
   }
  },
  {
   "cell_type": "code",
   "execution_count": 8,
   "outputs": [
    {
     "name": "stdout",
     "output_type": "stream",
     "text": [
      "平均运行时间为： 495.3832332611084\n",
      "模型准确率： 0.9612\n",
      "模型精确度： 0.9617417502105898\n",
      "模型召回率： 0.9612\n",
      "模型F1-score： 0.961100645621103\n"
     ]
    }
   ],
   "source": [
    "# 划分训练集与测试集，这里选取12.5%的数据作为测试集，剩余数据作为训练集。\n",
    "# random_state数值是不同会让训练集与测试集不同，若写为None则每次都随机生成。\n",
    "accuracyTotal = 0\n",
    "precisionTotal = 0\n",
    "recallTotal = 0\n",
    "f1Total = 0\n",
    "LOOP_NUMBER = 5\n",
    "target_names = ['class_0', 'class_1', 'class_2', 'class_3', 'class_4', 'class_5', 'class_6', 'class_7', 'class_8', 'class_9']\n",
    "\n",
    "start_time = time.time()\n",
    "for loop in range(LOOP_NUMBER):\n",
    "    text_train, text_test, label_train, label_test = train_test_split(textList, labelList, test_size=0.125, random_state=None)\n",
    "    mlp_classifier = MLPClassifier(hidden_layer_sizes=(10,), max_iter=1000, activation='logistic', random_state=42)\n",
    "    mlp_classifier.fit(text_train, label_train)\n",
    "    y_pred = mlp_classifier.predict(text_test)\n",
    "    accuracy = mlp_classifier.score(text_test, label_test)\n",
    "    classification_rep = classification_report(label_test, y_pred, target_names=target_names, output_dict=True)\n",
    "    # 提取相应的指标值\n",
    "    precision = classification_rep['weighted avg']['precision']\n",
    "    recall = classification_rep['weighted avg']['recall']\n",
    "    f1 = classification_rep['weighted avg']['f1-score']\n",
    "\n",
    "    accuracyTotal += accuracy\n",
    "    precisionTotal += precision\n",
    "    recallTotal += recall\n",
    "    f1Total += f1\n",
    "\n",
    "end_time = time.time()\n",
    "# 计算平均值\n",
    "runtime = (end_time - start_time) / LOOP_NUMBER\n",
    "accuracy_avg = accuracyTotal / LOOP_NUMBER\n",
    "precision_avg = precisionTotal / LOOP_NUMBER\n",
    "recall_avg = recallTotal / LOOP_NUMBER\n",
    "f1_avg = f1Total / LOOP_NUMBER\n",
    "\n",
    "print(\"平均运行时间为：\", runtime)\n",
    "print(\"模型准确率：\", accuracy_avg)\n",
    "print(\"模型精确度：\", precision_avg)\n",
    "print(\"模型召回率：\", recall_avg)\n",
    "print(\"模型F1-score：\", f1_avg)"
   ],
   "metadata": {
    "collapsed": false
   }
  },
  {
   "cell_type": "markdown",
   "source": [
    "观察发现其平均运行时间高达495.3832秒，是之前训练的两个模型耗时的两倍，但模型准确率、精确度、召回率与F1-Score却没有明显优势。\n",
    "这说明深度学习的确是一个效果良好，但极其消耗算力的过程，并且对参数敏感。"
   ],
   "metadata": {
    "collapsed": false
   }
  },
  {
   "cell_type": "markdown",
   "source": [
    "隐藏层具有10个神经元，且使用ReLU作为激活函数的多层感知机准确率较高，可以投入使用。故我们将全部数据投入到模型中进行训练。"
   ],
   "metadata": {
    "collapsed": false
   }
  },
  {
   "cell_type": "code",
   "execution_count": 5,
   "outputs": [
    {
     "data": {
      "text/plain": "MLPClassifier(hidden_layer_sizes=(10,), max_iter=1000, random_state=42)",
      "text/html": "<style>#sk-container-id-1 {color: black;}#sk-container-id-1 pre{padding: 0;}#sk-container-id-1 div.sk-toggleable {background-color: white;}#sk-container-id-1 label.sk-toggleable__label {cursor: pointer;display: block;width: 100%;margin-bottom: 0;padding: 0.3em;box-sizing: border-box;text-align: center;}#sk-container-id-1 label.sk-toggleable__label-arrow:before {content: \"▸\";float: left;margin-right: 0.25em;color: #696969;}#sk-container-id-1 label.sk-toggleable__label-arrow:hover:before {color: black;}#sk-container-id-1 div.sk-estimator:hover label.sk-toggleable__label-arrow:before {color: black;}#sk-container-id-1 div.sk-toggleable__content {max-height: 0;max-width: 0;overflow: hidden;text-align: left;background-color: #f0f8ff;}#sk-container-id-1 div.sk-toggleable__content pre {margin: 0.2em;color: black;border-radius: 0.25em;background-color: #f0f8ff;}#sk-container-id-1 input.sk-toggleable__control:checked~div.sk-toggleable__content {max-height: 200px;max-width: 100%;overflow: auto;}#sk-container-id-1 input.sk-toggleable__control:checked~label.sk-toggleable__label-arrow:before {content: \"▾\";}#sk-container-id-1 div.sk-estimator input.sk-toggleable__control:checked~label.sk-toggleable__label {background-color: #d4ebff;}#sk-container-id-1 div.sk-label input.sk-toggleable__control:checked~label.sk-toggleable__label {background-color: #d4ebff;}#sk-container-id-1 input.sk-hidden--visually {border: 0;clip: rect(1px 1px 1px 1px);clip: rect(1px, 1px, 1px, 1px);height: 1px;margin: -1px;overflow: hidden;padding: 0;position: absolute;width: 1px;}#sk-container-id-1 div.sk-estimator {font-family: monospace;background-color: #f0f8ff;border: 1px dotted black;border-radius: 0.25em;box-sizing: border-box;margin-bottom: 0.5em;}#sk-container-id-1 div.sk-estimator:hover {background-color: #d4ebff;}#sk-container-id-1 div.sk-parallel-item::after {content: \"\";width: 100%;border-bottom: 1px solid gray;flex-grow: 1;}#sk-container-id-1 div.sk-label:hover label.sk-toggleable__label {background-color: #d4ebff;}#sk-container-id-1 div.sk-serial::before {content: \"\";position: absolute;border-left: 1px solid gray;box-sizing: border-box;top: 0;bottom: 0;left: 50%;z-index: 0;}#sk-container-id-1 div.sk-serial {display: flex;flex-direction: column;align-items: center;background-color: white;padding-right: 0.2em;padding-left: 0.2em;position: relative;}#sk-container-id-1 div.sk-item {position: relative;z-index: 1;}#sk-container-id-1 div.sk-parallel {display: flex;align-items: stretch;justify-content: center;background-color: white;position: relative;}#sk-container-id-1 div.sk-item::before, #sk-container-id-1 div.sk-parallel-item::before {content: \"\";position: absolute;border-left: 1px solid gray;box-sizing: border-box;top: 0;bottom: 0;left: 50%;z-index: -1;}#sk-container-id-1 div.sk-parallel-item {display: flex;flex-direction: column;z-index: 1;position: relative;background-color: white;}#sk-container-id-1 div.sk-parallel-item:first-child::after {align-self: flex-end;width: 50%;}#sk-container-id-1 div.sk-parallel-item:last-child::after {align-self: flex-start;width: 50%;}#sk-container-id-1 div.sk-parallel-item:only-child::after {width: 0;}#sk-container-id-1 div.sk-dashed-wrapped {border: 1px dashed gray;margin: 0 0.4em 0.5em 0.4em;box-sizing: border-box;padding-bottom: 0.4em;background-color: white;}#sk-container-id-1 div.sk-label label {font-family: monospace;font-weight: bold;display: inline-block;line-height: 1.2em;}#sk-container-id-1 div.sk-label-container {text-align: center;}#sk-container-id-1 div.sk-container {/* jupyter's `normalize.less` sets `[hidden] { display: none; }` but bootstrap.min.css set `[hidden] { display: none !important; }` so we also need the `!important` here to be able to override the default hidden behavior on the sphinx rendered scikit-learn.org. See: https://github.com/scikit-learn/scikit-learn/issues/21755 */display: inline-block !important;position: relative;}#sk-container-id-1 div.sk-text-repr-fallback {display: none;}</style><div id=\"sk-container-id-1\" class=\"sk-top-container\"><div class=\"sk-text-repr-fallback\"><pre>MLPClassifier(hidden_layer_sizes=(10,), max_iter=1000, random_state=42)</pre><b>In a Jupyter environment, please rerun this cell to show the HTML representation or trust the notebook. <br />On GitHub, the HTML representation is unable to render, please try loading this page with nbviewer.org.</b></div><div class=\"sk-container\" hidden><div class=\"sk-item\"><div class=\"sk-estimator sk-toggleable\"><input class=\"sk-toggleable__control sk-hidden--visually\" id=\"sk-estimator-id-1\" type=\"checkbox\" checked><label for=\"sk-estimator-id-1\" class=\"sk-toggleable__label sk-toggleable__label-arrow\">MLPClassifier</label><div class=\"sk-toggleable__content\"><pre>MLPClassifier(hidden_layer_sizes=(10,), max_iter=1000, random_state=42)</pre></div></div></div></div></div>"
     },
     "execution_count": 5,
     "metadata": {},
     "output_type": "execute_result"
    }
   ],
   "source": [
    "mlp_classifier = MLPClassifier(hidden_layer_sizes=(10,), max_iter=1000, random_state=42)\n",
    "mlp_classifier.fit(textList, labelList)"
   ],
   "metadata": {
    "collapsed": false
   }
  },
  {
   "cell_type": "markdown",
   "source": [
    "### 四. 预测测试集结果\n",
    "预测并观察最终的结果。"
   ],
   "metadata": {
    "collapsed": false
   }
  },
  {
   "cell_type": "code",
   "execution_count": 6,
   "outputs": [
    {
     "data": {
      "text/plain": "array([6, 1, 4, ..., 9, 6, 9])"
     },
     "execution_count": 6,
     "metadata": {},
     "output_type": "execute_result"
    }
   ],
   "source": [
    "predictions = mlp_classifier.predict(result_list)\n",
    "predictions"
   ],
   "metadata": {
    "collapsed": false
   }
  },
  {
   "cell_type": "markdown",
   "source": [
    "由于该方法在多折交叉验证中表现最佳，因此我们选择该方法的结果作为进行提交。"
   ],
   "metadata": {
    "collapsed": false
   }
  },
  {
   "cell_type": "code",
   "execution_count": 7,
   "outputs": [],
   "source": [
    "with open(\"results.txt\", \"w\") as file:\n",
    "    file.write('id, pred\\n')\n",
    "    for index, item in enumerate(predictions):\n",
    "        file.write(f'{index}, {item}\\n')"
   ],
   "metadata": {
    "collapsed": false
   }
  }
 ],
 "metadata": {
  "kernelspec": {
   "display_name": "Python 3",
   "language": "python",
   "name": "python3"
  },
  "language_info": {
   "codemirror_mode": {
    "name": "ipython",
    "version": 2
   },
   "file_extension": ".py",
   "mimetype": "text/x-python",
   "name": "python",
   "nbconvert_exporter": "python",
   "pygments_lexer": "ipython2",
   "version": "2.7.6"
  }
 },
 "nbformat": 4,
 "nbformat_minor": 0
}
