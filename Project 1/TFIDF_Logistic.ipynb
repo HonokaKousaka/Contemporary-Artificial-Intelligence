{
 "cells": [
  {
   "cell_type": "markdown",
   "metadata": {
    "collapsed": false
   },
   "source": [
    "# 当代人工智能实验一：文本分类\n",
    "## ——TF-IDF & Logistic Regression"
   ]
  },
  {
   "cell_type": "markdown",
   "metadata": {
    "collapsed": false
   },
   "source": [
    "### 一. 引入必要模块\n",
    "numpy将用于数据的处理。\n",
    "CountVectorizer, TfidfVectorizer, TfidfTransformer是在利用TF-IDF方法将文本映射为向量。\n",
    "LogisticRegression用于进行逻辑回归。\n",
    "train_test_split用于进行训练集与验证集的划分。"
   ]
  },
  {
   "cell_type": "code",
   "execution_count": 1,
   "metadata": {
    "collapsed": false
   },
   "outputs": [],
   "source": [
    "import numpy as np\n",
    "from sklearn.feature_extraction.text import CountVectorizer, TfidfVectorizer, TfidfTransformer\n",
    "from sklearn.linear_model import LogisticRegression\n",
    "from sklearn.model_selection import train_test_split\n",
    "from sklearn.metrics import classification_report\n",
    "import time"
   ]
  },
  {
   "cell_type": "markdown",
   "metadata": {
    "collapsed": false
   },
   "source": [
    "### 二. 读取训练与测试数据\n",
    "每条训练集数据都包含“文本”与给定的“标签”。每条测试集数据都有编号与“文本”。"
   ]
  },
  {
   "cell_type": "code",
   "execution_count": 2,
   "metadata": {
    "collapsed": false
   },
   "outputs": [],
   "source": [
    "# 打开并读取训练数据文档\n",
    "f_train = open('train_data.txt')\n",
    "train_text = f_train.read()\n",
    "# print(train_text)\n",
    "# 观察数据特征，确定数据文档中的每一项均由一个回车分割，故采取切片\n",
    "train_text = train_text.split(\"\\n\")\n",
    "# 创造两个数组，存储训练数据\n",
    "# labelList 存储每个数据的标签\n",
    "# rawList 存储每个数据的文本内容\n",
    "labelList = []\n",
    "rawList = []\n",
    "for i in range(len(train_text)-1):\n",
    "    train_text[i] = eval(train_text[i])\n",
    "    labelList.append(train_text[i][\"label\"])\n",
    "    rawList.append(train_text[i][\"raw\"])\n",
    "labelList = np.array(labelList)\n",
    "rawList = np.array(rawList)"
   ]
  },
  {
   "cell_type": "code",
   "execution_count": 3,
   "metadata": {
    "collapsed": false
   },
   "outputs": [],
   "source": [
    "# 打开并读取测试数据文档\n",
    "f_test = open('test.txt')\n",
    "result = f_test.read()\n",
    "# print(test_text)\n",
    "# 观察数据特征，确定数据文档中的每一项均由一个回车分割，故采取切片\n",
    "result = result.split(\"\\n\")\n",
    "# 去除第一行\n",
    "result.pop(0)\n",
    "# 测试集的大小\n",
    "TEST_LENGTH = 2000\n",
    "result_id = list(range(TEST_LENGTH))\n",
    "result_text = []\n",
    "for i in range(TEST_LENGTH):\n",
    "    comma_index = result[i].find(\",\")\n",
    "    if comma_index != -1:\n",
    "        result_text.append(result[i][comma_index+2:])\n",
    "    else:\n",
    "        print(\"ERROR: COMMA NOT FOUND\")\n",
    "result_text = np.array(result_text)\n",
    "# result_text"
   ]
  },
  {
   "cell_type": "code",
   "execution_count": 4,
   "metadata": {
    "collapsed": false
   },
   "outputs": [],
   "source": [
    "ALL = np.append(rawList, result_text)\n",
    "# 记录数据的个数\n",
    "LENGTH_TRAIN = len(rawList)\n",
    "LENGTH_ALL = len(ALL)\n",
    "# ALL"
   ]
  },
  {
   "cell_type": "markdown",
   "metadata": {
    "collapsed": false
   },
   "source": [
    "保存这些向量，可以用于未来直接使用。"
   ]
  },
  {
   "cell_type": "code",
   "execution_count": 5,
   "metadata": {
    "collapsed": false
   },
   "outputs": [],
   "source": [
    "np.save('rawList.npy', rawList)\n",
    "np.save('labelList.npy', labelList)"
   ]
  },
  {
   "cell_type": "markdown",
   "metadata": {
    "collapsed": false
   },
   "source": [
    "### 三. 文本转化为向量\n",
    "这里使用TF-IDF方法。"
   ]
  },
  {
   "cell_type": "code",
   "execution_count": 6,
   "metadata": {
    "collapsed": false
   },
   "outputs": [
    {
     "name": "stdout",
     "output_type": "stream",
     "text": [
      "运行时间为: 11.171382904052734\n"
     ]
    },
    {
     "data": {
      "text/plain": "array([[0., 0., 0., ..., 0., 0., 0.],\n       [0., 0., 0., ..., 0., 0., 0.],\n       [0., 0., 0., ..., 0., 0., 0.],\n       ...,\n       [0., 0., 0., ..., 0., 0., 0.],\n       [0., 0., 0., ..., 0., 0., 0.],\n       [0., 0., 0., ..., 0., 0., 0.]])"
     },
     "execution_count": 6,
     "metadata": {},
     "output_type": "execute_result"
    }
   ],
   "source": [
    "# 初始化训练参数\n",
    "# analyzer为word时，表示以单词为单位计算TF-IDF值\n",
    "# stop_words为english时，表示去除英语中的停用词，避免缺乏实际意义的计算\n",
    "# use_idf为True时，表示要计算idf值\n",
    "# smooth_idf为True时，表示要在文档频率上加一来平滑idf，避免分母为0\n",
    "# norm为None时，表示输出结果不需要任何标准化或归一化，为l2时，说明输出结果进行了归一化\n",
    "start_time = time.time()\n",
    "tv1 = TfidfVectorizer(analyzer=\"word\", stop_words=\"english\", use_idf=True, smooth_idf=True, norm=\"l2\")\n",
    "tv1_fit = tv1.fit_transform(ALL)\n",
    "# 得到每一个文本对应的TF-IDF向量\n",
    "vsm_matrix = tv1_fit.toarray()\n",
    "# vsm_matrix\n",
    "textList = []\n",
    "result_list = []\n",
    "for i in range(LENGTH_TRAIN):\n",
    "    textList.append(vsm_matrix[i])\n",
    "textList = np.array(textList)\n",
    "np.save('textVectorList.npy', textList)\n",
    "for i in range(LENGTH_TRAIN, LENGTH_ALL):\n",
    "    result_list.append(vsm_matrix[i])\n",
    "result_list = np.array(result_list)\n",
    "np.save('result_list.npy', result_list)\n",
    "end_time = time.time()\n",
    "print(\"运行时间为:\", end_time - start_time)\n",
    "\n",
    "result_list"
   ]
  },
  {
   "cell_type": "markdown",
   "metadata": {
    "collapsed": false
   },
   "source": [
    "### 四. 利用训练集数据训练多分类逻辑回归模型\n",
    "使用sklearn中的LogisticRegression模块。\n",
    "在这里，我们通过蒙特卡洛交叉验证来验证模型的正确性。"
   ]
  },
  {
   "cell_type": "code",
   "execution_count": 7,
   "metadata": {
    "collapsed": false
   },
   "outputs": [
    {
     "name": "stdout",
     "output_type": "stream",
     "text": [
      "平均运行时间为： 69.24085001945495\n",
      "模型准确率： 0.9480000000000001\n",
      "模型精确度： 0.9495307501890655\n",
      "模型召回率： 0.9480000000000001\n",
      "模型F1-score： 0.9479776915998805\n"
     ]
    }
   ],
   "source": [
    "# 划分训练集与测试集，这里选取12.5%的数据作为测试集，剩余数据作为训练集。\n",
    "# random_state数值是不同会让训练集与测试集不同，若写为None则每次都随机生成。\n",
    "accuracyTotal = 0\n",
    "precisionTotal = 0\n",
    "recallTotal = 0\n",
    "f1Total = 0\n",
    "LOOP_NUMBER = 5\n",
    "target_names = ['class_0', 'class_1', 'class_2', 'class_3', 'class_4', 'class_5', 'class_6', 'class_7', 'class_8', 'class_9']\n",
    "\n",
    "start_time = time.time()\n",
    "for loop in range(LOOP_NUMBER):\n",
    "    text_train, text_test, label_train, label_test = train_test_split(textList, labelList, test_size=0.125, random_state=None)\n",
    "    model = LogisticRegression(max_iter=1000)\n",
    "    model.fit(text_train, label_train)\n",
    "    accuracy = model.score(text_test, label_test)\n",
    "\n",
    "    y_pred = model.predict(text_test)\n",
    "    classification_rep = classification_report(label_test, y_pred, target_names=target_names, output_dict=True)\n",
    "\n",
    "    # 提取相应的指标值\n",
    "    precision = classification_rep['weighted avg']['precision']\n",
    "    recall = classification_rep['weighted avg']['recall']\n",
    "    f1 = classification_rep['weighted avg']['f1-score']\n",
    "\n",
    "    accuracyTotal += accuracy\n",
    "    precisionTotal += precision\n",
    "    recallTotal += recall\n",
    "    f1Total += f1\n",
    "\n",
    "end_time = time.time()\n",
    "# 计算平均值\n",
    "runtime = (end_time - start_time) / LOOP_NUMBER\n",
    "accuracy_avg = accuracyTotal / LOOP_NUMBER\n",
    "precision_avg = precisionTotal / LOOP_NUMBER\n",
    "recall_avg = recallTotal / LOOP_NUMBER\n",
    "f1_avg = f1Total / LOOP_NUMBER\n",
    "\n",
    "print(\"平均运行时间为：\", runtime)\n",
    "print(\"模型准确率：\", accuracy_avg)\n",
    "print(\"模型精确度：\", precision_avg)\n",
    "print(\"模型召回率：\", recall_avg)\n",
    "print(\"模型F1-score：\", f1_avg)"
   ]
  },
  {
   "cell_type": "markdown",
   "metadata": {
    "collapsed": false
   },
   "source": [
    "这说明模型准确率较高，可以投入使用。故我们将全部数据投入到模型中进行训练。"
   ]
  },
  {
   "cell_type": "code",
   "execution_count": 19,
   "metadata": {
    "collapsed": false
   },
   "outputs": [
    {
     "data": {
      "text/plain": "LogisticRegression(max_iter=1000)",
      "text/html": "<style>#sk-container-id-1 {color: black;}#sk-container-id-1 pre{padding: 0;}#sk-container-id-1 div.sk-toggleable {background-color: white;}#sk-container-id-1 label.sk-toggleable__label {cursor: pointer;display: block;width: 100%;margin-bottom: 0;padding: 0.3em;box-sizing: border-box;text-align: center;}#sk-container-id-1 label.sk-toggleable__label-arrow:before {content: \"▸\";float: left;margin-right: 0.25em;color: #696969;}#sk-container-id-1 label.sk-toggleable__label-arrow:hover:before {color: black;}#sk-container-id-1 div.sk-estimator:hover label.sk-toggleable__label-arrow:before {color: black;}#sk-container-id-1 div.sk-toggleable__content {max-height: 0;max-width: 0;overflow: hidden;text-align: left;background-color: #f0f8ff;}#sk-container-id-1 div.sk-toggleable__content pre {margin: 0.2em;color: black;border-radius: 0.25em;background-color: #f0f8ff;}#sk-container-id-1 input.sk-toggleable__control:checked~div.sk-toggleable__content {max-height: 200px;max-width: 100%;overflow: auto;}#sk-container-id-1 input.sk-toggleable__control:checked~label.sk-toggleable__label-arrow:before {content: \"▾\";}#sk-container-id-1 div.sk-estimator input.sk-toggleable__control:checked~label.sk-toggleable__label {background-color: #d4ebff;}#sk-container-id-1 div.sk-label input.sk-toggleable__control:checked~label.sk-toggleable__label {background-color: #d4ebff;}#sk-container-id-1 input.sk-hidden--visually {border: 0;clip: rect(1px 1px 1px 1px);clip: rect(1px, 1px, 1px, 1px);height: 1px;margin: -1px;overflow: hidden;padding: 0;position: absolute;width: 1px;}#sk-container-id-1 div.sk-estimator {font-family: monospace;background-color: #f0f8ff;border: 1px dotted black;border-radius: 0.25em;box-sizing: border-box;margin-bottom: 0.5em;}#sk-container-id-1 div.sk-estimator:hover {background-color: #d4ebff;}#sk-container-id-1 div.sk-parallel-item::after {content: \"\";width: 100%;border-bottom: 1px solid gray;flex-grow: 1;}#sk-container-id-1 div.sk-label:hover label.sk-toggleable__label {background-color: #d4ebff;}#sk-container-id-1 div.sk-serial::before {content: \"\";position: absolute;border-left: 1px solid gray;box-sizing: border-box;top: 0;bottom: 0;left: 50%;z-index: 0;}#sk-container-id-1 div.sk-serial {display: flex;flex-direction: column;align-items: center;background-color: white;padding-right: 0.2em;padding-left: 0.2em;position: relative;}#sk-container-id-1 div.sk-item {position: relative;z-index: 1;}#sk-container-id-1 div.sk-parallel {display: flex;align-items: stretch;justify-content: center;background-color: white;position: relative;}#sk-container-id-1 div.sk-item::before, #sk-container-id-1 div.sk-parallel-item::before {content: \"\";position: absolute;border-left: 1px solid gray;box-sizing: border-box;top: 0;bottom: 0;left: 50%;z-index: -1;}#sk-container-id-1 div.sk-parallel-item {display: flex;flex-direction: column;z-index: 1;position: relative;background-color: white;}#sk-container-id-1 div.sk-parallel-item:first-child::after {align-self: flex-end;width: 50%;}#sk-container-id-1 div.sk-parallel-item:last-child::after {align-self: flex-start;width: 50%;}#sk-container-id-1 div.sk-parallel-item:only-child::after {width: 0;}#sk-container-id-1 div.sk-dashed-wrapped {border: 1px dashed gray;margin: 0 0.4em 0.5em 0.4em;box-sizing: border-box;padding-bottom: 0.4em;background-color: white;}#sk-container-id-1 div.sk-label label {font-family: monospace;font-weight: bold;display: inline-block;line-height: 1.2em;}#sk-container-id-1 div.sk-label-container {text-align: center;}#sk-container-id-1 div.sk-container {/* jupyter's `normalize.less` sets `[hidden] { display: none; }` but bootstrap.min.css set `[hidden] { display: none !important; }` so we also need the `!important` here to be able to override the default hidden behavior on the sphinx rendered scikit-learn.org. See: https://github.com/scikit-learn/scikit-learn/issues/21755 */display: inline-block !important;position: relative;}#sk-container-id-1 div.sk-text-repr-fallback {display: none;}</style><div id=\"sk-container-id-1\" class=\"sk-top-container\"><div class=\"sk-text-repr-fallback\"><pre>LogisticRegression(max_iter=1000)</pre><b>In a Jupyter environment, please rerun this cell to show the HTML representation or trust the notebook. <br />On GitHub, the HTML representation is unable to render, please try loading this page with nbviewer.org.</b></div><div class=\"sk-container\" hidden><div class=\"sk-item\"><div class=\"sk-estimator sk-toggleable\"><input class=\"sk-toggleable__control sk-hidden--visually\" id=\"sk-estimator-id-1\" type=\"checkbox\" checked><label for=\"sk-estimator-id-1\" class=\"sk-toggleable__label sk-toggleable__label-arrow\">LogisticRegression</label><div class=\"sk-toggleable__content\"><pre>LogisticRegression(max_iter=1000)</pre></div></div></div></div></div>"
     },
     "execution_count": 19,
     "metadata": {},
     "output_type": "execute_result"
    }
   ],
   "source": [
    "model = LogisticRegression(max_iter=1000)\n",
    "model.fit(textList, labelList)"
   ]
  },
  {
   "cell_type": "markdown",
   "metadata": {
    "collapsed": false
   },
   "source": [
    "### 五. 预测测试集结果\n",
    "预测并观察最终的结果。"
   ]
  },
  {
   "cell_type": "code",
   "execution_count": 20,
   "metadata": {
    "collapsed": false
   },
   "outputs": [
    {
     "data": {
      "text/plain": "array([6, 1, 4, ..., 9, 6, 9])"
     },
     "execution_count": 20,
     "metadata": {},
     "output_type": "execute_result"
    }
   ],
   "source": [
    "predictions = model.predict(result_list)\n",
    "predictions"
   ]
  }
 ],
 "metadata": {
  "kernelspec": {
   "display_name": "Python 3",
   "language": "python",
   "name": "python3"
  },
  "language_info": {
   "codemirror_mode": {
    "name": "ipython",
    "version": 3
   },
   "file_extension": ".py",
   "mimetype": "text/x-python",
   "name": "python",
   "nbconvert_exporter": "python",
   "pygments_lexer": "ipython3",
   "version": "3.5.2"
  }
 },
 "nbformat": 4,
 "nbformat_minor": 0
}
