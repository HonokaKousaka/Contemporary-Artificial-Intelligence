{
 "cells": [
  {
   "cell_type": "markdown",
   "source": [
    "# 当代人工智能实验一：文本分类\n",
    "## ——TF-IDF & Decision Tree"
   ],
   "metadata": {
    "collapsed": false
   }
  },
  {
   "cell_type": "markdown",
   "source": [
    "### 一. 引入必要模块\n",
    "numpy将用于数据的处理。\n",
    "time用于记录代码运行时间。\n",
    "DecisionTreeClassifier用于运行决策树。\n",
    "train_test_split用于进行训练集与验证集的划分。\n",
    "classification_report用于衡量模型的训练表现。"
   ],
   "metadata": {
    "collapsed": false
   }
  },
  {
   "cell_type": "code",
   "execution_count": 1,
   "outputs": [],
   "source": [
    "import numpy as np\n",
    "import time\n",
    "from sklearn.tree import DecisionTreeClassifier\n",
    "from sklearn.model_selection import train_test_split\n",
    "from sklearn.metrics import classification_report"
   ],
   "metadata": {
    "collapsed": false
   }
  },
  {
   "cell_type": "markdown",
   "source": [
    "### 二. 载入数据"
   ],
   "metadata": {
    "collapsed": false
   }
  },
  {
   "cell_type": "code",
   "execution_count": 2,
   "outputs": [],
   "source": [
    "labelList = np.load('labelList.npy')\n",
    "textList = np.load('textVectorList.npy')\n",
    "result_list = np.load('result_list.npy')"
   ],
   "metadata": {
    "collapsed": false
   }
  },
  {
   "cell_type": "markdown",
   "source": [
    "### 三. 利用训练集数据训练决策树模型\n",
    "使用sklearn中的DecisionTreeClassifier模块。\n",
    "在这里，我们通过蒙特卡洛交叉验证来验证模型的正确性。"
   ],
   "metadata": {
    "collapsed": false
   }
  },
  {
   "cell_type": "code",
   "execution_count": 3,
   "outputs": [
    {
     "name": "stdout",
     "output_type": "stream",
     "text": [
      "平均运行时间为： 39.13006644248962\n",
      "模型准确率： 0.7867999999999999\n",
      "模型精确度： 0.7888546919511834\n",
      "模型召回率： 0.7867999999999999\n",
      "模型F1-score： 0.7866261113542182\n"
     ]
    }
   ],
   "source": [
    "# 划分训练集与测试集，这里选取12.5%的数据作为测试集，剩余数据作为训练集。\n",
    "# random_state数值是不同会让训练集与测试集不同，若写为None则每次都随机生成。\n",
    "accuracyTotal = 0\n",
    "precisionTotal = 0\n",
    "recallTotal = 0\n",
    "f1Total = 0\n",
    "LOOP_NUMBER = 5\n",
    "target_names = ['class_0', 'class_1', 'class_2', 'class_3', 'class_4', 'class_5', 'class_6', 'class_7', 'class_8', 'class_9']\n",
    "\n",
    "start_time = time.time()\n",
    "for loop in range(LOOP_NUMBER):\n",
    "    text_train, text_test, label_train, label_test = train_test_split(textList, labelList, test_size=0.125, random_state=None)\n",
    "    dt_classifier = DecisionTreeClassifier(random_state=42)\n",
    "    dt_classifier.fit(text_train, label_train)\n",
    "    y_pred = dt_classifier.predict(text_test)\n",
    "    accuracy = dt_classifier.score(text_test, label_test)\n",
    "    classification_rep = classification_report(label_test, y_pred, target_names=target_names, output_dict=True)\n",
    "    # 提取相应的指标值\n",
    "    precision = classification_rep['weighted avg']['precision']\n",
    "    recall = classification_rep['weighted avg']['recall']\n",
    "    f1 = classification_rep['weighted avg']['f1-score']\n",
    "\n",
    "    accuracyTotal += accuracy\n",
    "    precisionTotal += precision\n",
    "    recallTotal += recall\n",
    "    f1Total += f1\n",
    "\n",
    "end_time = time.time()\n",
    "# 计算平均值\n",
    "runtime = (end_time - start_time) / LOOP_NUMBER\n",
    "accuracy_avg = accuracyTotal / LOOP_NUMBER\n",
    "precision_avg = precisionTotal / LOOP_NUMBER\n",
    "recall_avg = recallTotal / LOOP_NUMBER\n",
    "f1_avg = f1Total / LOOP_NUMBER\n",
    "\n",
    "print(\"平均运行时间为：\", runtime)\n",
    "print(\"模型准确率：\", accuracy_avg)\n",
    "print(\"模型精确度：\", precision_avg)\n",
    "print(\"模型召回率：\", recall_avg)\n",
    "print(\"模型F1-score：\", f1_avg)"
   ],
   "metadata": {
    "collapsed": false
   }
  },
  {
   "cell_type": "markdown",
   "source": [
    "我们发现，其分类表现较差。这可能是由于我们没有进行任何参数调整所导致的，因此我们将调整个别参数来观察运行效果。\n",
    "然而，通过对决策树可以调整的参数进行研究，我们发现，调节max_depth, min_samples_split, min_samples_leaf, max_leaf_nodes等参数，通常只是为了抑制模型的复杂性与过拟合。我们的模型目前遇到的最大问题为，预测的效果非常不好，调整上述参数对于优化模型的预测效果不会有显著效果，因此我们主要调整了衡量分裂质量的标准，将criterion改为了entropy."
   ],
   "metadata": {
    "collapsed": false
   }
  },
  {
   "cell_type": "code",
   "execution_count": 8,
   "outputs": [
    {
     "name": "stdout",
     "output_type": "stream",
     "text": [
      "平均运行时间为： 31.50426330566406\n",
      "模型准确率： 0.7426\n",
      "模型精确度： 0.7496185196236086\n",
      "模型召回率： 0.7426\n",
      "模型F1-score： 0.7441254927342695\n"
     ]
    }
   ],
   "source": [
    "# 划分训练集与测试集，这里选取12.5%的数据作为测试集，剩余数据作为训练集。\n",
    "# random_state数值是不同会让训练集与测试集不同，若写为None则每次都随机生成。\n",
    "accuracyTotal = 0\n",
    "precisionTotal = 0\n",
    "recallTotal = 0\n",
    "f1Total = 0\n",
    "LOOP_NUMBER = 5\n",
    "target_names = ['class_0', 'class_1', 'class_2', 'class_3', 'class_4', 'class_5', 'class_6', 'class_7', 'class_8', 'class_9']\n",
    "\n",
    "start_time = time.time()\n",
    "for loop in range(LOOP_NUMBER):\n",
    "    text_train, text_test, label_train, label_test = train_test_split(textList, labelList, test_size=0.125, random_state=None)\n",
    "    dt_classifier = DecisionTreeClassifier(criterion='entropy', random_state=42)\n",
    "    dt_classifier.fit(text_train, label_train)\n",
    "    y_pred = dt_classifier.predict(text_test)\n",
    "    accuracy = dt_classifier.score(text_test, label_test)\n",
    "    classification_rep = classification_report(label_test, y_pred, target_names=target_names, output_dict=True)\n",
    "    # 提取相应的指标值\n",
    "    precision = classification_rep['weighted avg']['precision']\n",
    "    recall = classification_rep['weighted avg']['recall']\n",
    "    f1 = classification_rep['weighted avg']['f1-score']\n",
    "\n",
    "    accuracyTotal += accuracy\n",
    "    precisionTotal += precision\n",
    "    recallTotal += recall\n",
    "    f1Total += f1\n",
    "\n",
    "end_time = time.time()\n",
    "# 计算平均值\n",
    "runtime = (end_time - start_time) / LOOP_NUMBER\n",
    "accuracy_avg = accuracyTotal / LOOP_NUMBER\n",
    "precision_avg = precisionTotal / LOOP_NUMBER\n",
    "recall_avg = recallTotal / LOOP_NUMBER\n",
    "f1_avg = f1Total / LOOP_NUMBER\n",
    "\n",
    "print(\"平均运行时间为：\", runtime)\n",
    "print(\"模型准确率：\", accuracy_avg)\n",
    "print(\"模型精确度：\", precision_avg)\n",
    "print(\"模型召回率：\", recall_avg)\n",
    "print(\"模型F1-score：\", f1_avg)"
   ],
   "metadata": {
    "collapsed": false
   }
  },
  {
   "cell_type": "markdown",
   "source": [
    "发现最后模型的预测效果仍然不尽理想。\n",
    "实际上，决策树模型被认为不是最合适文本分类任务的一个模型。因此，我们不选择使用决策树模型作为最终使用的分类模型。"
   ],
   "metadata": {
    "collapsed": false
   }
  }
 ],
 "metadata": {
  "kernelspec": {
   "display_name": "Python 3",
   "language": "python",
   "name": "python3"
  },
  "language_info": {
   "codemirror_mode": {
    "name": "ipython",
    "version": 2
   },
   "file_extension": ".py",
   "mimetype": "text/x-python",
   "name": "python",
   "nbconvert_exporter": "python",
   "pygments_lexer": "ipython2",
   "version": "2.7.6"
  }
 },
 "nbformat": 4,
 "nbformat_minor": 0
}
