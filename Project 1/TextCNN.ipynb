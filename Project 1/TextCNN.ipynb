{
 "cells": [
  {
   "cell_type": "markdown",
   "source": [
    "# 当代人工智能实验一：文本分类\n",
    "## ——TF-IDF & TextCNN"
   ],
   "metadata": {
    "collapsed": false
   }
  },
  {
   "cell_type": "code",
   "execution_count": 1,
   "outputs": [],
   "source": [
    "import numpy as np\n",
    "import time\n",
    "from sklearn.model_selection import train_test_split\n",
    "from tensorflow.keras.preprocessing.text import Tokenizer\n",
    "from tensorflow.keras.preprocessing.sequence import pad_sequences\n",
    "from tensorflow.keras.models import Sequential\n",
    "from tensorflow.keras.layers import Embedding, Conv1D, GlobalMaxPooling1D, Dense"
   ],
   "metadata": {
    "collapsed": false
   }
  },
  {
   "cell_type": "code",
   "execution_count": 43,
   "outputs": [],
   "source": [
    "y = np.load('labelList.npy') # 标签\n",
    "X = np.load('textVectorList.npy') # 向量化的文字"
   ],
   "metadata": {
    "collapsed": false
   }
  },
  {
   "cell_type": "code",
   "execution_count": 44,
   "outputs": [
    {
     "name": "stdout",
     "output_type": "stream",
     "text": [
      "Epoch 1/5\n",
      "219/219 [==============================] - 233s 1s/step - loss: 2.2308 - accuracy: 0.1193 - val_loss: 4.2754 - val_accuracy: 0.0000e+00\n",
      "Epoch 2/5\n",
      "219/219 [==============================] - 223s 1s/step - loss: 2.1904 - accuracy: 0.1381 - val_loss: 5.2808 - val_accuracy: 0.0000e+00\n",
      "Epoch 3/5\n",
      "219/219 [==============================] - 222s 1s/step - loss: 2.1770 - accuracy: 0.1487 - val_loss: 5.8710 - val_accuracy: 0.0000e+00\n",
      "Epoch 4/5\n",
      "219/219 [==============================] - 226s 1s/step - loss: 2.1656 - accuracy: 0.1533 - val_loss: 6.3031 - val_accuracy: 0.0000e+00\n",
      "Epoch 5/5\n",
      "219/219 [==============================] - 227s 1s/step - loss: 2.1584 - accuracy: 0.1580 - val_loss: 6.6824 - val_accuracy: 0.0000e+00\n",
      "250/250 [==============================] - 81s 323ms/step - loss: 2.7198 - accuracy: 0.1406\n",
      "精确度为: 0.140625\n",
      "运行时间为: 1215.3077547550201\n"
     ]
    }
   ],
   "source": [
    "start_time = time.time()\n",
    "model = Sequential()\n",
    "model.add(Conv1D(128, 5, activation='relu', input_shape=(X.shape[1], 1)))\n",
    "model.add(GlobalMaxPooling1D())\n",
    "model.add(Dense(10, activation='softmax'))\n",
    "# 编译模型\n",
    "model.compile(optimizer='adam', loss='sparse_categorical_crossentropy', metrics=['accuracy'])\n",
    "# 训练模型\n",
    "model.fit(X.reshape(X.shape[0], X.shape[1], 1), y, epochs=5, validation_split=0.125)\n",
    "# 评估模型\n",
    "loss, accuracy = model.evaluate(X.reshape(X.shape[0], X.shape[1], 1), y)\n",
    "end_time = time.time()\n",
    "print(\"精确度为:\", accuracy)\n",
    "print(\"运行时间为:\", end_time - start_time)"
   ],
   "metadata": {
    "collapsed": false
   }
  },
  {
   "cell_type": "code",
   "execution_count": 50,
   "outputs": [],
   "source": [
    "X = np.load(\"rawList.npy\") # 文字\n",
    "Y = np.load(\"labelList.npy\") # 标签"
   ],
   "metadata": {
    "collapsed": false
   }
  },
  {
   "cell_type": "code",
   "execution_count": 51,
   "outputs": [
    {
     "name": "stdout",
     "output_type": "stream",
     "text": [
      "Epoch 1/5\n",
      "219/219 [==============================] - 22s 96ms/step - loss: 1.5082 - accuracy: 0.5657 - val_loss: 0.5668 - val_accuracy: 0.8310\n",
      "Epoch 2/5\n",
      "219/219 [==============================] - 21s 94ms/step - loss: 0.3673 - accuracy: 0.8930 - val_loss: 0.3118 - val_accuracy: 0.8980\n",
      "Epoch 3/5\n",
      "219/219 [==============================] - 21s 95ms/step - loss: 0.1354 - accuracy: 0.9666 - val_loss: 0.2549 - val_accuracy: 0.9110\n",
      "Epoch 4/5\n",
      "219/219 [==============================] - 21s 95ms/step - loss: 0.0446 - accuracy: 0.9931 - val_loss: 0.2272 - val_accuracy: 0.9230\n",
      "Epoch 5/5\n",
      "219/219 [==============================] - 21s 95ms/step - loss: 0.0163 - accuracy: 0.9989 - val_loss: 0.2241 - val_accuracy: 0.9290\n",
      "32/32 [==============================] - 0s 7ms/step - loss: 0.2241 - accuracy: 0.9290\n",
      "精确度为: 0.9290000200271606\n",
      "运行时间为: 106.37823724746704\n"
     ]
    }
   ],
   "source": [
    "start_time = time.time()\n",
    "# 将文本转换为序列\n",
    "# 设置词汇表大小\n",
    "max_words = 50000\n",
    "# 设置向量最大长度\n",
    "maxlen = 200\n",
    "# 使用Tokenizer进行文本转换为向量的操作\n",
    "# 可以过滤大量标点符号\n",
    "tokenizer = Tokenizer(num_words=max_words, filters='!\"#$%&()*+,-./:;<=>?@[\\]^_`{|}~\\t\\n')\n",
    "tokenizer.fit_on_texts(X)\n",
    "sequences = tokenizer.texts_to_sequences(X)\n",
    "X = pad_sequences(sequences, maxlen=maxlen)\n",
    "# 将标签转换为数组\n",
    "Y = np.array(Y)\n",
    "# 划分训练集和测试集\n",
    "X_train, X_test, y_train, y_test = train_test_split(X, Y, test_size=0.125, random_state=42)\n",
    "# 构建模型\n",
    "model = Sequential()\n",
    "model.add(Embedding(max_words, 128, input_length=maxlen))\n",
    "model.add(Conv1D(128, 5, activation='relu'))\n",
    "model.add(GlobalMaxPooling1D())\n",
    "model.add(Dense(10, activation='softmax'))\n",
    "# 编译模型\n",
    "model.compile(optimizer='adam', loss='sparse_categorical_crossentropy', metrics=['accuracy'])\n",
    "# 训练模型\n",
    "model.fit(X_train, y_train, epochs=5, validation_data=(X_test, y_test))\n",
    "# 评估模型\n",
    "loss, accuracy = model.evaluate(X_test, y_test)\n",
    "end_time = time.time()\n",
    "print(\"精确度为:\", accuracy)\n",
    "print(\"运行时间为:\", end_time - start_time)"
   ],
   "metadata": {
    "collapsed": false
   }
  }
 ],
 "metadata": {
  "kernelspec": {
   "display_name": "Python 3",
   "language": "python",
   "name": "python3"
  },
  "language_info": {
   "codemirror_mode": {
    "name": "ipython",
    "version": 2
   },
   "file_extension": ".py",
   "mimetype": "text/x-python",
   "name": "python",
   "nbconvert_exporter": "python",
   "pygments_lexer": "ipython2",
   "version": "2.7.6"
  }
 },
 "nbformat": 4,
 "nbformat_minor": 0
}
